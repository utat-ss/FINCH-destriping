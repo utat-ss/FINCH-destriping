{
 "nbformat": 4,
 "nbformat_minor": 0,
 "metadata": {
  "colab": {
   "provenance": [],
   "collapsed_sections": []
  },
  "kernelspec": {
   "name": "python3",
   "display_name": "Python 3"
  },
  "language_info": {
   "name": "python"
  }
 },
 "cells": [
  {
   "cell_type": "code",
   "execution_count": 1,
   "metadata": {
    "colab": {
     "base_uri": "https://localhost:8080/"
    },
    "id": "OaCTY3_L2iy-",
    "executionInfo": {
     "status": "ok",
     "timestamp": 1665892409145,
     "user_tz": 240,
     "elapsed": 41327,
     "user": {
      "displayName": "Punyaphat Sukcharoenchaikul",
      "userId": "05777821768464563273"
     }
    },
    "outputId": "713e0371-e907-4f30-e752-9203ab02fa73"
   },
   "outputs": [
    {
     "output_type": "stream",
     "name": "stdout",
     "text": [
      "Looking in indexes: https://pypi.org/simple, https://us-python.pkg.dev/colab-wheels/public/simple/\n",
      "Collecting import_ipynb\n",
      "  Downloading import_ipynb-0.1.4-py3-none-any.whl (4.1 kB)\n",
      "Requirement already satisfied: IPython in /usr/local/lib/python3.7/dist-packages (from import_ipynb) (7.9.0)\n",
      "Requirement already satisfied: nbformat in /usr/local/lib/python3.7/dist-packages (from import_ipynb) (5.7.0)\n",
      "Requirement already satisfied: pickleshare in /usr/local/lib/python3.7/dist-packages (from IPython->import_ipynb) (0.7.5)\n",
      "Requirement already satisfied: pygments in /usr/local/lib/python3.7/dist-packages (from IPython->import_ipynb) (2.6.1)\n",
      "Requirement already satisfied: traitlets>=4.2 in /usr/local/lib/python3.7/dist-packages (from IPython->import_ipynb) (5.1.1)\n",
      "Requirement already satisfied: backcall in /usr/local/lib/python3.7/dist-packages (from IPython->import_ipynb) (0.2.0)\n",
      "Requirement already satisfied: decorator in /usr/local/lib/python3.7/dist-packages (from IPython->import_ipynb) (4.4.2)\n",
      "Requirement already satisfied: prompt-toolkit<2.1.0,>=2.0.0 in /usr/local/lib/python3.7/dist-packages (from IPython->import_ipynb) (2.0.10)\n",
      "Requirement already satisfied: setuptools>=18.5 in /usr/local/lib/python3.7/dist-packages (from IPython->import_ipynb) (57.4.0)\n",
      "Requirement already satisfied: pexpect in /usr/local/lib/python3.7/dist-packages (from IPython->import_ipynb) (4.8.0)\n",
      "Collecting jedi>=0.10\n",
      "  Downloading jedi-0.18.1-py2.py3-none-any.whl (1.6 MB)\n",
      "\u001b[K     |████████████████████████████████| 1.6 MB 13.1 MB/s \n",
      "\u001b[?25hRequirement already satisfied: parso<0.9.0,>=0.8.0 in /usr/local/lib/python3.7/dist-packages (from jedi>=0.10->IPython->import_ipynb) (0.8.3)\n",
      "Requirement already satisfied: wcwidth in /usr/local/lib/python3.7/dist-packages (from prompt-toolkit<2.1.0,>=2.0.0->IPython->import_ipynb) (0.2.5)\n",
      "Requirement already satisfied: six>=1.9.0 in /usr/local/lib/python3.7/dist-packages (from prompt-toolkit<2.1.0,>=2.0.0->IPython->import_ipynb) (1.15.0)\n",
      "Requirement already satisfied: jupyter-core in /usr/local/lib/python3.7/dist-packages (from nbformat->import_ipynb) (4.11.1)\n",
      "Requirement already satisfied: importlib-metadata>=3.6 in /usr/local/lib/python3.7/dist-packages (from nbformat->import_ipynb) (5.0.0)\n",
      "Requirement already satisfied: fastjsonschema in /usr/local/lib/python3.7/dist-packages (from nbformat->import_ipynb) (2.16.2)\n",
      "Requirement already satisfied: jsonschema>=2.6 in /usr/local/lib/python3.7/dist-packages (from nbformat->import_ipynb) (4.3.3)\n",
      "Requirement already satisfied: typing-extensions>=3.6.4 in /usr/local/lib/python3.7/dist-packages (from importlib-metadata>=3.6->nbformat->import_ipynb) (4.1.1)\n",
      "Requirement already satisfied: zipp>=0.5 in /usr/local/lib/python3.7/dist-packages (from importlib-metadata>=3.6->nbformat->import_ipynb) (3.9.0)\n",
      "Requirement already satisfied: pyrsistent!=0.17.0,!=0.17.1,!=0.17.2,>=0.14.0 in /usr/local/lib/python3.7/dist-packages (from jsonschema>=2.6->nbformat->import_ipynb) (0.18.1)\n",
      "Requirement already satisfied: attrs>=17.4.0 in /usr/local/lib/python3.7/dist-packages (from jsonschema>=2.6->nbformat->import_ipynb) (22.1.0)\n",
      "Requirement already satisfied: importlib-resources>=1.4.0 in /usr/local/lib/python3.7/dist-packages (from jsonschema>=2.6->nbformat->import_ipynb) (5.10.0)\n",
      "Requirement already satisfied: ptyprocess>=0.5 in /usr/local/lib/python3.7/dist-packages (from pexpect->IPython->import_ipynb) (0.7.0)\n",
      "Installing collected packages: jedi, import-ipynb\n",
      "Successfully installed import-ipynb-0.1.4 jedi-0.18.1\n",
      "Mounted at /content/drive\n",
      "/content/drive/Shareddrives/Space Systems Division/Teams/FINCH/Payload System/Science/Projects/SC-4: Data Processing/Destriping/Noise Functions\n",
      "importing Jupyter notebook from apply_stripes.ipynb\n",
      "/content/drive/Shareddrives/Space Systems Division/Teams/FINCH/Payload System/Science/Projects/SC-4: Data Processing/Destriping/Destriping Models\n",
      "importing Jupyter notebook from noise_estimation.ipynb\n",
      "Drive already mounted at /content/drive/; to attempt to forcibly remount, call drive.mount(\"/content/drive/\", force_remount=True).\n",
      "/content/drive/Shareddrives/Space Systems Division/Teams/FINCH/Payload System/Science/Projects/SC-4: Data Processing/Destriping/Destriping Models/SURE CNN/Colab Notebooks/HSI_Denoising_SURE_CNN-master\n"
     ]
    }
   ],
   "source": [
    "# Imports not from the google drive\n",
    "# stdlib\n",
    "import copy\n",
    "import math\n",
    "import os\n",
    "import random\n",
    "import sys\n",
    "\n",
    "# external\n",
    "import matplotlib.pyplot as plt\n",
    "import numpy as np\n",
    "import scipy.io as sio\n",
    "import tensorflow as tf\n",
    "from PIL import Image\n",
    "from skimage.metrics import peak_signal_noise_ratio as psnr\n",
    "from skimage.metrics import structural_similarity as ssim\n",
    "\n",
    "os.environ[\"CUDA_VISIBLE_DEVICES\"] = \"0\"\n",
    "\n",
    "!pip install import_ipynb\n",
    "# external\n",
    "import import_ipynb\n",
    "\n",
    "# Imports from the google drive\n",
    "from google.colab import drive\n",
    "\n",
    "drive.mount(\"/content/drive\")\n",
    "\n",
    "%cd /content/drive/Shareddrives/Space Systems Division/Teams/FINCH/Payload System/Science/Projects/SC-4: Data Processing/Destriping/Noise Functions\n",
    "file_dir = \"/content/drive/Shared drives/Space Systems Divison/FINCH Mission/Payload System/Science/Projects/SC-4: Data Processing/Destriping/Noise Functions\"\n",
    "sys.path.append(os.path.abspath(file_dir))\n",
    "# external\n",
    "import apply_stripes\n",
    "\n",
    "%cd /content/drive/Shareddrives/Space Systems Division/Teams/FINCH/Payload System/Science/Projects/SC-4: Data Processing/Destriping/Destriping Models\n",
    "file_dir = \"/content/drive/Shared drives/Space Systems Divison/FINCH Mission/Payload System/Science/Projects/SC-4: Data Processing/Destriping/Destriping Models\"\n",
    "sys.path.append(os.path.abspath(file_dir))\n",
    "# external\n",
    "import noise_estimation\n",
    "\n",
    "%cd /content/drive/Shareddrives/Space Systems Division/Teams/FINCH/Payload System/Science/Projects/SC-4: Data Processing/Destriping/Destriping Models/SURE CNN/Colab Notebooks/HSI_Denoising_SURE_CNN-master\n",
    "file_dir = \"/content/drive/Shared drives/Space Systems Divison/FINCH Mission/Payload System/Science/Projects/SC-4: Data Processing/Destriping/Destriping Models/SURE CNN/Colab Notebooks/HSI_Denoising_SURE_CNN-master\"\n",
    "sys.path.append(os.path.abspath(file_dir))\n",
    "# external\n",
    "from models.skipnet import *\n",
    "from utils.common import *"
   ]
  },
  {
   "cell_type": "code",
   "source": [
    "def import_indian_pines_data(to_import=True):\n",
    "    \"\"\"\n",
    "    import Indian Pines dataset from Science Google Drive\n",
    "    Args:\n",
    "      import: if True import the dataset from Googel Drive, if false doesn't import\n",
    "      To change the location of import to github\n",
    "\n",
    "    Return: print statement of whether the dataset is imported properly or not\n",
    "    \"\"\"\n",
    "    if to_import == True:\n",
    "        # data get data to add stripe\n",
    "        #!git clone https://github.com/spacesys-finch/Science #if says error uncomment this line\n",
    "        # error cloning, so uploaded the data to google drive instead\n",
    "        data = np.load(\n",
    "            \"/content/drive/Shareddrives/Space Systems Division/Teams/FINCH/Payload System/Science/Projects/SC-4: Data Processing/Destriping/Datasets/indian_pine_array.npy\"\n",
    "        )\n",
    "\n",
    "        # changing from callibrated value to radiance\n",
    "        # radiance_data_np = (data-1000)/500\n",
    "        radiance_data_np = data.astype(np.float32)\n",
    "        return radiance_data_np"
   ],
   "metadata": {
    "id": "gk7vF7xh2rda",
    "executionInfo": {
     "status": "ok",
     "timestamp": 1665892409145,
     "user_tz": 240,
     "elapsed": 13,
     "user": {
      "displayName": "Punyaphat Sukcharoenchaikul",
      "userId": "05777821768464563273"
     }
    }
   },
   "execution_count": 2,
   "outputs": []
  },
  {
   "cell_type": "code",
   "source": [
    "# write a function for nomalizing the values in the numpy array\n",
    "\n",
    "\n",
    "def normalize(numpy_arr_one, numpy_arr_two):\n",
    "    \"\"\"\n",
    "    Normalize the values in numpy_arr_one and numpy_arr_two into values between -1 and 1\n",
    "    Args:\n",
    "      numpy_arr_one, numpy_arr_two: numpy arrays of the data to normalize\n",
    "    Return: numpy_arr_one_norm, numpy_arr_two_norm: two arrays that are normalized\n",
    "    \"\"\"\n",
    "\n",
    "    max_num = max(np.max(numpy_arr_one), np.max(numpy_arr_two))\n",
    "    divisor = np.ones(numpy_arr_one.shape) * max_num\n",
    "    numpy_arr_one_norm = np.divide(numpy_arr_one, divisor)\n",
    "    numpy_arr_two_norm = np.divide(numpy_arr_two, divisor)\n",
    "    return numpy_arr_one_norm, numpy_arr_two_norm, max_num"
   ],
   "metadata": {
    "id": "NWIJQ9bi28Bh",
    "executionInfo": {
     "status": "ok",
     "timestamp": 1665892409146,
     "user_tz": 240,
     "elapsed": 12,
     "user": {
      "displayName": "Punyaphat Sukcharoenchaikul",
      "userId": "05777821768464563273"
     }
    }
   },
   "execution_count": 3,
   "outputs": []
  },
  {
   "cell_type": "code",
   "source": [
    "# reshape data to (1, data.shape[0], data.shape[1], data.shape[2])\n",
    "def reshape(data):\n",
    "    \"\"\"\n",
    "    Input: 3D Numpy array, Output: Reshaped 4D Numpy array\n",
    "    Reshape HSI data from 3D to 4D to pass into CNN\n",
    "    Ex. original data shape (20, 30, 40) will turn into (1, 20, 30, 40)\n",
    "    \"\"\"\n",
    "    data_reshaped = data.reshape(1, data.shape[0], data.shape[1], data.shape[2])\n",
    "    return data_reshaped"
   ],
   "metadata": {
    "id": "5uQJ58aA2_DZ",
    "executionInfo": {
     "status": "ok",
     "timestamp": 1665892409146,
     "user_tz": 240,
     "elapsed": 12,
     "user": {
      "displayName": "Punyaphat Sukcharoenchaikul",
      "userId": "05777821768464563273"
     }
    }
   },
   "execution_count": 4,
   "outputs": []
  },
  {
   "cell_type": "code",
   "source": [
    "def define_model(striped_data):\n",
    "    \"\"\"\n",
    "    Define the models and the necessary parameters of the model\n",
    "\n",
    "    Args: None\n",
    "    Return:\n",
    "      mymodel: model of the defined properties\n",
    "      lr: alpha value\n",
    "      myoptimizer: optimizer of choice\n",
    "      loss_object: type of loss object\n",
    "    \"\"\"\n",
    "    # Define model\n",
    "    mymodel = skip(ndown=5, channel=striped_data.shape[-1])\n",
    "    lr = 0.001\n",
    "    myoptimizer = tf.keras.optimizers.Adam(lr)\n",
    "    loss_object = tf.keras.losses.MeanSquaredError()\n",
    "    return mymodel, lr, myoptimizer, loss_object"
   ],
   "metadata": {
    "id": "nagfb6vj3BGY",
    "executionInfo": {
     "status": "ok",
     "timestamp": 1665892409147,
     "user_tz": 240,
     "elapsed": 13,
     "user": {
      "displayName": "Punyaphat Sukcharoenchaikul",
      "userId": "05777821768464563273"
     }
    }
   },
   "execution_count": 5,
   "outputs": []
  },
  {
   "cell_type": "code",
   "source": [
    "# Calculate gradient\n",
    "@tf.function\n",
    "def grad(model, inputs, targets):\n",
    "    sure = True\n",
    "    with tf.GradientTape() as tape:\n",
    "        loss_value, div_value = losshyper(\n",
    "            model, inputs, targets, sigma=sigmaest, sure=sure\n",
    "        )\n",
    "    return loss_value, div_value, tape.gradient(loss_value, model.trainable_variables)"
   ],
   "metadata": {
    "id": "6h038S3t3EMZ",
    "executionInfo": {
     "status": "ok",
     "timestamp": 1665892409147,
     "user_tz": 240,
     "elapsed": 12,
     "user": {
      "displayName": "Punyaphat Sukcharoenchaikul",
      "userId": "05777821768464563273"
     }
    }
   },
   "execution_count": 6,
   "outputs": []
  },
  {
   "cell_type": "code",
   "source": [
    "# function for calculating mean ssim (Structural Similarity Index)\n",
    "def meanssim(X, Y):\n",
    "    \"\"\"\n",
    "    Calculate the mean SSIM of the two images X and Y\n",
    "\n",
    "    Args:\n",
    "    x: first image to compare\n",
    "    y: second image to compare with\n",
    "\n",
    "    return\n",
    "    np.mean(bandssim): mean similarity of the two images x and y\n",
    "    \"\"\"\n",
    "    bandssim = []\n",
    "    for i in range(X.shape[2]):\n",
    "        bandssim.append(\n",
    "            ssim(\n",
    "                X[:, :, i],\n",
    "                Y[:, :, i],\n",
    "                data_range=1.0,\n",
    "                K1=0.01,\n",
    "                K2=0.03,\n",
    "                gaussian_weights=True,\n",
    "                sigma=1.5,\n",
    "                use_sample_covariance=False,\n",
    "            )\n",
    "        )\n",
    "    return np.mean(bandssim)"
   ],
   "metadata": {
    "id": "EZXCe9X93GRh",
    "executionInfo": {
     "status": "ok",
     "timestamp": 1665892409147,
     "user_tz": 240,
     "elapsed": 12,
     "user": {
      "displayName": "Punyaphat Sukcharoenchaikul",
      "userId": "05777821768464563273"
     }
    }
   },
   "execution_count": 7,
   "outputs": []
  },
  {
   "cell_type": "code",
   "source": [
    "def train_model(train, model_file_path, striped_data, clean_data, num_epochs):\n",
    "    \"\"\"\n",
    "    This function train the model and save the model\n",
    "\n",
    "    Args:\n",
    "      train: if true, train, if false not train\n",
    "      model_file_path: filepath that the model is saved at\n",
    "      striped_data: striped_data as numpy array with the shape (1, data.shape[0], data.shape[1], data.shape[2])\n",
    "      clean_data: clean data as numpy array with the shape (1, data.shape[0], data.shape[1], data.shape[2])\n",
    "\n",
    "    Return:\n",
    "      train_loss_results: list of the training loss\n",
    "      destriped_psnr: list of the psnr between the\n",
    "\n",
    "    \"\"\"\n",
    "    if train == True:\n",
    "        mymodel, lr, myoptimizer, loss_object = define_model(striped_data)\n",
    "        sure = True\n",
    "        # start training\n",
    "        train_loss_results = []\n",
    "        train_div_results = []\n",
    "        destriped_psnr = []\n",
    "        destriped_ssim = []\n",
    "        curr_psnr = 0\n",
    "        sure = True\n",
    "        # for loop for going through each epoch\n",
    "        for epoch in range(num_epochs):\n",
    "            loss_label = \"SURE\"\n",
    "            # get gradient for the current model\n",
    "            loss_value, div_value, grads = grad(mymodel, striped_data, striped_data)\n",
    "            # apply gradient to the optimizer\n",
    "            myoptimizer.apply_gradients(zip(grads, mymodel.trainable_variables))\n",
    "            img_out = mymodel.predict(striped_data)\n",
    "            # if the pnsr between the clean image and the output from the model is higher than the previous output, save the current model\n",
    "            if psnr(clean_data[0], img_out[0]) > curr_psnr:\n",
    "                print(\"Saving Model\")\n",
    "                tf.keras.models.save_model(mymodel, model_file_path)\n",
    "                curr_psnr = psnr(clean_data[0], img_out[0])\n",
    "            curr_ssim = meanssim(clean_data[0], img_out[0])\n",
    "\n",
    "            print(\"This is running epoch %d and Loss %f\" % (epoch, loss_value))\n",
    "            print(\"PSNR: \" + str(curr_psnr))\n",
    "            print(\"SSIM: \" + str(curr_ssim))\n",
    "            print(\n",
    "                \"Iteration %05d    Loss %f     PSNR %f    SSIM: \"\n",
    "                % (epoch, loss_value, curr_psnr),\n",
    "                \"\\r\",\n",
    "                end=\"\",\n",
    "            )\n",
    "            # updating loss, div, ssim\n",
    "            train_loss_results.append(loss_value)\n",
    "            train_div_results.append(div_value)\n",
    "            destriped_psnr.append(curr_psnr)\n",
    "            destriped_ssim.append(curr_ssim)\n",
    "\n",
    "        return train_loss_results, destriped_psnr, destriped_ssim\n",
    "\n",
    "    else:\n",
    "        print(\"Does not train\")\n",
    "        return [0], [0]"
   ],
   "metadata": {
    "id": "HN3NiVDs3I2w",
    "executionInfo": {
     "status": "ok",
     "timestamp": 1665892409147,
     "user_tz": 240,
     "elapsed": 11,
     "user": {
      "displayName": "Punyaphat Sukcharoenchaikul",
      "userId": "05777821768464563273"
     }
    }
   },
   "execution_count": 8,
   "outputs": []
  },
  {
   "cell_type": "code",
   "source": [
    "def load_model_and_predict(filepath, striped_data):\n",
    "    \"\"\"\n",
    "    This function load the saved model from the filepath and apply the model to striped_data to get the output\n",
    "\n",
    "    Args:\n",
    "      filepath: filepath that the model is saved in, the model should be of type .hdf5\n",
    "      striped_data: striped_data in the format of numpy array with the shape (1, data.shape[0], data.shape[1], data.shape[2])\n",
    "\n",
    "    Return:\n",
    "      bestmodel: the model that is loaded from the filepath\n",
    "      out_best: the output from passing striped_data into the loaded model\n",
    "    \"\"\"\n",
    "    # set the model to load the trained model\n",
    "    bestmodel = tf.keras.models.load_model(filepath)\n",
    "    # pass the noisy image into the model to get the output from the trained model\n",
    "    out_best = bestmodel.predict(striped_data)\n",
    "    return bestmodel, out_best"
   ],
   "metadata": {
    "id": "ksJBu-o_3L33",
    "executionInfo": {
     "status": "ok",
     "timestamp": 1665892409148,
     "user_tz": 240,
     "elapsed": 12,
     "user": {
      "displayName": "Punyaphat Sukcharoenchaikul",
      "userId": "05777821768464563273"
     }
    }
   },
   "execution_count": 9,
   "outputs": []
  },
  {
   "cell_type": "code",
   "source": [
    "# load data and add stripe/noise\n",
    "ip_radiance_data_np = import_indian_pines_data()\n",
    "ip_striped_data_np = ip_radiance_data_np\n",
    "ip_radiance_data_np, ip_striped_data_np, factor = normalize(\n",
    "    ip_radiance_data_np, ip_radiance_data_np\n",
    ")\n",
    "num_stripes = []\n",
    "\n",
    "num_bands = 200  # number of bands in the HSI\n",
    "num_of_stripes = 25  # number of stripes for each band\n",
    "\n",
    "for i in range(num_bands):\n",
    "    num_stripes.append(num_of_stripes)\n",
    "\n",
    "# add stripes, change to other type of noise\n",
    "ip_striped_data_np = apply_stripes.add_basic_stripes(ip_radiance_data_np, num_stripes)\n",
    "\n",
    "# plot the striped images\n",
    "band = 12\n",
    "plt.subplot(121)\n",
    "plt.imshow(np.clip(ip_radiance_data_np[:, :, band], 0, 1))\n",
    "plt.subplot(122)\n",
    "plt.imshow(np.clip(ip_striped_data_np[:, :, band], 0, 1))\n",
    "plt.show()\n",
    "\n",
    "# reshape radiance data and striped data\n",
    "ip_radiance_data = reshape(ip_radiance_data_np)\n",
    "ip_radiance_data = ip_radiance_data.astype(np.float32)\n",
    "ip_striped_data = reshape(ip_striped_data_np)\n",
    "ip_striped_data = ip_striped_data.astype(np.float32)\n",
    "\n",
    "# calculate noise estimation\n",
    "sigmaest = noise_estimation.noise_estimate(ip_radiance_data_np)\n",
    "sigmaest = sigmaest.astype(np.float32)"
   ],
   "metadata": {
    "id": "VmostZ033RGn",
    "colab": {
     "base_uri": "https://localhost:8080/",
     "height": 222
    },
    "executionInfo": {
     "status": "ok",
     "timestamp": 1665892420405,
     "user_tz": 240,
     "elapsed": 11268,
     "user": {
      "displayName": "Punyaphat Sukcharoenchaikul",
      "userId": "05777821768464563273"
     }
    },
    "outputId": "8597a97f-0b37-4937-a086-b75a4becf160"
   },
   "execution_count": 10,
   "outputs": [
    {
     "output_type": "display_data",
     "data": {
      "text/plain": [
       "<Figure size 432x288 with 2 Axes>"
      ],
      "image/png": "[encoded data removed]"
     },
     "metadata": {
      "needs_background": "light"
     }
    },
    {
     "output_type": "stream",
     "name": "stdout",
     "text": [
      "(200, 21025)   21025\n"
     ]
    }
   ]
  },
  {
   "cell_type": "code",
   "source": [
    "# load dataset, the one used is from Pavia University\n",
    "dname = \"sigma50eta0PaviaU\"\n",
    "fname = \"hsi_data/Demo/\" + dname + \".mat\"\n",
    "data = sio.loadmat(fname)\n",
    "\n",
    "# create clean image numpy array of type float\n",
    "img_clean_np = data[\"image\"].astype(np.float32)\n",
    "# get the shape of the dataset (400, 200, 103)\n",
    "print(img_clean_np.shape)\n",
    "\n",
    "# create noisy image numpy array of type float\n",
    "img_striped_np = data[\"image\"].astype(np.float32)\n",
    "\n",
    "img_clean_np, img_striped_np, factor = normalize(img_clean_np, img_striped_np)\n",
    "\n",
    "# add stripe using add_basic_stripes function\n",
    "img_striped_np = apply_stripes.add_basic_stripes(img_striped_np).astype(np.float32)\n",
    "# sigmaest = data[\"sigma2\"].astype(np.float32) #estimated sigma by Wavelet (sigma2) or HySime (sigma1)\n",
    "sigmaest = noise_estimation.noise_estimate(img_striped_np)\n",
    "sigmaest = sigmaest.astype(np.float32)\n",
    "# sigma=data['noiselev'].astype(np.float32) #True sigma (but unknow in practice)\n",
    "\n",
    "# show the band 4\n",
    "plt.imshow(np.clip(img_striped_np[:, :, 4], 0, 1))\n",
    "# plt.imshow(img_clean_crop[:,:,showband])\n",
    "plt.title(\"Striped psnr \" + str(psnr(img_clean_np, img_striped_np)))\n",
    "plt.axis(\"off\")\n",
    "plt.show()\n",
    "\n",
    "# reshape the images to (1, 400, 200, 103)\n",
    "img_striped = img_striped_np.reshape(\n",
    "    1, img_striped_np.shape[0], img_striped_np.shape[1], img_striped_np.shape[2]\n",
    ")\n",
    "img_clean = img_clean_np.reshape(\n",
    "    1, img_clean_np.shape[0], img_clean_np.shape[1], img_clean_np.shape[2]\n",
    ")"
   ],
   "metadata": {
    "colab": {
     "base_uri": "https://localhost:8080/",
     "height": 318
    },
    "id": "naITrXAdLr_M",
    "executionInfo": {
     "status": "ok",
     "timestamp": 1665892435360,
     "user_tz": 240,
     "elapsed": 14977,
     "user": {
      "displayName": "Punyaphat Sukcharoenchaikul",
      "userId": "05777821768464563273"
     }
    },
    "outputId": "dbeac916-f3bc-4c5f-dc53-37973c2f3814"
   },
   "execution_count": 11,
   "outputs": [
    {
     "output_type": "stream",
     "name": "stdout",
     "text": [
      "(400, 200, 103)\n",
      "(103, 80000)   80000\n"
     ]
    },
    {
     "output_type": "stream",
     "name": "stderr",
     "text": [
      "/usr/local/lib/python3.7/dist-packages/ipykernel_launcher.py:26: UserWarning: Inputs have mismatched dtype.  Setting data_range based on im_true.\n"
     ]
    },
    {
     "output_type": "display_data",
     "data": {
      "text/plain": [
       "<Figure size 432x288 with 1 Axes>"
      ],
      "image/png": "[encoded data removed]"
     },
     "metadata": {
      "needs_background": "light"
     }
    }
   ]
  },
  {
   "cell_type": "code",
   "source": [
    "# change filename of the model saved\n",
    "filepath = \"./results/best model/Demo/\" + \"sure\" + \"pavia_university_matlab\" + \".hdf5\""
   ],
   "metadata": {
    "id": "VTKEdbqOP5Dw",
    "executionInfo": {
     "status": "ok",
     "timestamp": 1665892438607,
     "user_tz": 240,
     "elapsed": 214,
     "user": {
      "displayName": "Punyaphat Sukcharoenchaikul",
      "userId": "05777821768464563273"
     }
    }
   },
   "execution_count": 12,
   "outputs": []
  },
  {
   "cell_type": "code",
   "source": [
    "to_train = True\n",
    "sure = True\n",
    "num_epochs = 350\n",
    "train_loss_results, destriped_psnr, destriped_ssim = train_model(\n",
    "    to_train, filepath, img_striped, img_clean, num_epochs\n",
    ")\n",
    "PUbestmodel, out_best = load_model_and_predict(filepath, img_striped)\n",
    "\n",
    "# show the output image\n",
    "fig1, (ax, ax1, ax2) = plt.subplots(3, sharex=False, figsize=(6, 12))\n",
    "ax.imshow(np.clip(out_best[0][:, :, band], 0, 1))\n",
    "ax.set_title(\"Denoised  image, max PSNR=\" + str(np.round(np.max(destriped_psnr), 2)))\n",
    "ax.axis(\"off\")\n",
    "# plot train loss and divergence\n",
    "ax1.plot(range(len(train_loss_results)), train_loss_results, label=\"train loss\")\n",
    "ax1.set_title(\"Training loss using SURE\")\n",
    "ax1.legend()\n",
    "ax1.grid()\n",
    "\n",
    "# plot PSNR\n",
    "ax2.plot(destriped_psnr, label=\"destriped PSNR\")\n",
    "ax2.set_xlabel(\"Iterations\")\n",
    "ax2.set_title(\"PSNR using SURE\")\n",
    "ax2.legend()\n",
    "ax2.grid()"
   ],
   "metadata": {
    "id": "VRQ6CPl7QHaN",
    "colab": {
     "base_uri": "https://localhost:8080/"
    },
    "outputId": "fa3748fe-7b77-4573-cfbc-1b59ce23b2fc"
   },
   "execution_count": null,
   "outputs": [
    {
     "output_type": "stream",
     "name": "stdout",
     "text": [
      "1/1 [==============================] - 5s 5s/step\n"
     ]
    },
    {
     "output_type": "stream",
     "name": "stderr",
     "text": [
      "/usr/local/lib/python3.7/dist-packages/ipykernel_launcher.py:35: UserWarning: Inputs have mismatched dtype.  Setting data_range based on im_true.\n",
      "WARNING:tensorflow:Compiled the loaded model, but the compiled metrics have yet to be built. `model.compile_metrics` will be empty until you train or evaluate the model.\n"
     ]
    },
    {
     "output_type": "stream",
     "name": "stdout",
     "text": [
      "Saving Model\n"
     ]
    },
    {
     "output_type": "stream",
     "name": "stderr",
     "text": [
      "/usr/local/lib/python3.7/dist-packages/ipykernel_launcher.py:38: UserWarning: Inputs have mismatched dtype.  Setting data_range based on im_true.\n"
     ]
    },
    {
     "output_type": "stream",
     "name": "stdout",
     "text": [
      "This is running epoch 0 and Loss 0.117752\n",
      "PSNR: 9.981409024793777\n",
      "SSIM: 0.2387539287128944\n",
      "1/1 [==============================] - 5s 5s/step\n"
     ]
    },
    {
     "output_type": "stream",
     "name": "stderr",
     "text": [
      "WARNING:tensorflow:Compiled the loaded model, but the compiled metrics have yet to be built. `model.compile_metrics` will be empty until you train or evaluate the model.\n"
     ]
    },
    {
     "output_type": "stream",
     "name": "stdout",
     "text": [
      "Saving Model\n",
      "This is running epoch 1 and Loss 0.101868\n",
      "PSNR: 11.270908664104109\n",
      "SSIM: 0.23561285523979505\n",
      "1/1 [==============================] - 5s 5s/step\n"
     ]
    },
    {
     "output_type": "stream",
     "name": "stderr",
     "text": [
      "WARNING:tensorflow:Compiled the loaded model, but the compiled metrics have yet to be built. `model.compile_metrics` will be empty until you train or evaluate the model.\n"
     ]
    },
    {
     "output_type": "stream",
     "name": "stdout",
     "text": [
      "Saving Model\n",
      "This is running epoch 2 and Loss 0.076411\n",
      "PSNR: 12.519245983110247\n",
      "SSIM: 0.2399321569715182\n",
      "1/1 [==============================] - 5s 5s/step\n"
     ]
    },
    {
     "output_type": "stream",
     "name": "stderr",
     "text": [
      "WARNING:tensorflow:Compiled the loaded model, but the compiled metrics have yet to be built. `model.compile_metrics` will be empty until you train or evaluate the model.\n"
     ]
    },
    {
     "output_type": "stream",
     "name": "stdout",
     "text": [
      "Saving Model\n",
      "This is running epoch 3 and Loss 0.057587\n",
      "PSNR: 13.539397775780138\n",
      "SSIM: 0.24330549582614464\n",
      "1/1 [==============================] - 5s 5s/step\n"
     ]
    },
    {
     "output_type": "stream",
     "name": "stderr",
     "text": [
      "WARNING:tensorflow:Compiled the loaded model, but the compiled metrics have yet to be built. `model.compile_metrics` will be empty until you train or evaluate the model.\n"
     ]
    },
    {
     "output_type": "stream",
     "name": "stdout",
     "text": [
      "Saving Model\n",
      "This is running epoch 4 and Loss 0.045912\n",
      "PSNR: 14.789887729628255\n",
      "SSIM: 0.2210483271511919\n",
      "1/1 [==============================] - 5s 5s/step\n"
     ]
    },
    {
     "output_type": "stream",
     "name": "stderr",
     "text": [
      "WARNING:tensorflow:Compiled the loaded model, but the compiled metrics have yet to be built. `model.compile_metrics` will be empty until you train or evaluate the model.\n"
     ]
    },
    {
     "output_type": "stream",
     "name": "stdout",
     "text": [
      "Saving Model\n",
      "This is running epoch 5 and Loss 0.035036\n",
      "PSNR: 15.34141827160891\n",
      "SSIM: 0.19977695042931473\n",
      "1/1 [==============================] - 5s 5s/step\n"
     ]
    },
    {
     "output_type": "stream",
     "name": "stderr",
     "text": [
      "WARNING:tensorflow:Compiled the loaded model, but the compiled metrics have yet to be built. `model.compile_metrics` will be empty until you train or evaluate the model.\n"
     ]
    },
    {
     "output_type": "stream",
     "name": "stdout",
     "text": [
      "Saving Model\n",
      "This is running epoch 6 and Loss 0.031278\n",
      "PSNR: 15.732678823388763\n",
      "SSIM: 0.2191292505247772\n",
      "1/1 [==============================] - 5s 5s/step\n"
     ]
    },
    {
     "output_type": "stream",
     "name": "stderr",
     "text": [
      "WARNING:tensorflow:Compiled the loaded model, but the compiled metrics have yet to be built. `model.compile_metrics` will be empty until you train or evaluate the model.\n"
     ]
    },
    {
     "output_type": "stream",
     "name": "stdout",
     "text": [
      "Saving Model\n",
      "This is running epoch 7 and Loss 0.028740\n",
      "PSNR: 16.133026428890236\n",
      "SSIM: 0.24813865468780721\n",
      "1/1 [==============================] - 5s 5s/step\n"
     ]
    },
    {
     "output_type": "stream",
     "name": "stderr",
     "text": [
      "WARNING:tensorflow:Compiled the loaded model, but the compiled metrics have yet to be built. `model.compile_metrics` will be empty until you train or evaluate the model.\n"
     ]
    },
    {
     "output_type": "stream",
     "name": "stdout",
     "text": [
      "Saving Model\n",
      "This is running epoch 8 and Loss 0.026303\n",
      "PSNR: 16.388397150161147\n",
      "SSIM: 0.2690400206872526\n",
      "1/1 [==============================] - 5s 5s/step\n"
     ]
    },
    {
     "output_type": "stream",
     "name": "stderr",
     "text": [
      "WARNING:tensorflow:Compiled the loaded model, but the compiled metrics have yet to be built. `model.compile_metrics` will be empty until you train or evaluate the model.\n"
     ]
    },
    {
     "output_type": "stream",
     "name": "stdout",
     "text": [
      "Saving Model\n",
      "This is running epoch 9 and Loss 0.024844\n",
      "PSNR: 16.775614529710122\n",
      "SSIM: 0.28150619503608204\n",
      "1/1 [==============================] - 5s 5s/step\n"
     ]
    },
    {
     "output_type": "stream",
     "name": "stderr",
     "text": [
      "WARNING:tensorflow:Compiled the loaded model, but the compiled metrics have yet to be built. `model.compile_metrics` will be empty until you train or evaluate the model.\n"
     ]
    },
    {
     "output_type": "stream",
     "name": "stdout",
     "text": [
      "Saving Model\n",
      "This is running epoch 10 and Loss 0.022894\n",
      "PSNR: 17.161921449753816\n",
      "SSIM: 0.30387474949205706\n",
      "1/1 [==============================] - 5s 5s/step\n"
     ]
    },
    {
     "output_type": "stream",
     "name": "stderr",
     "text": [
      "WARNING:tensorflow:Compiled the loaded model, but the compiled metrics have yet to be built. `model.compile_metrics` will be empty until you train or evaluate the model.\n"
     ]
    },
    {
     "output_type": "stream",
     "name": "stdout",
     "text": [
      "Saving Model\n",
      "This is running epoch 11 and Loss 0.021109\n",
      "PSNR: 17.4403925410833\n",
      "SSIM: 0.34036005538943126\n",
      "1/1 [==============================] - 5s 5s/step\n",
      "This is running epoch 12 and Loss 0.019875\n",
      "PSNR: 17.4403925410833\n",
      "SSIM: 0.31359488208880315\n",
      "1/1 [==============================] - 6s 6s/step\n"
     ]
    },
    {
     "output_type": "stream",
     "name": "stderr",
     "text": [
      "WARNING:tensorflow:Compiled the loaded model, but the compiled metrics have yet to be built. `model.compile_metrics` will be empty until you train or evaluate the model.\n"
     ]
    },
    {
     "output_type": "stream",
     "name": "stdout",
     "text": [
      "Saving Model\n",
      "This is running epoch 13 and Loss 0.020404\n",
      "PSNR: 17.473650520808064\n",
      "SSIM: 0.38471965102767947\n",
      "1/1 [==============================] - 5s 5s/step\n"
     ]
    },
    {
     "output_type": "stream",
     "name": "stderr",
     "text": [
      "WARNING:tensorflow:Compiled the loaded model, but the compiled metrics have yet to be built. `model.compile_metrics` will be empty until you train or evaluate the model.\n"
     ]
    },
    {
     "output_type": "stream",
     "name": "stdout",
     "text": [
      "Saving Model\n",
      "This is running epoch 14 and Loss 0.019715\n",
      "PSNR: 18.127318312566565\n",
      "SSIM: 0.3734129449178895\n",
      "1/1 [==============================] - 5s 5s/step\n",
      "This is running epoch 15 and Loss 0.017298\n",
      "PSNR: 18.127318312566565\n",
      "SSIM: 0.36539574310043627\n",
      "1/1 [==============================] - 5s 5s/step\n"
     ]
    },
    {
     "output_type": "stream",
     "name": "stderr",
     "text": [
      "WARNING:tensorflow:Compiled the loaded model, but the compiled metrics have yet to be built. `model.compile_metrics` will be empty until you train or evaluate the model.\n"
     ]
    },
    {
     "output_type": "stream",
     "name": "stdout",
     "text": [
      "Saving Model\n",
      "This is running epoch 16 and Loss 0.017421\n",
      "PSNR: 18.497336951894624\n",
      "SSIM: 0.41625030990682454\n",
      "1/1 [==============================] - 5s 5s/step\n"
     ]
    },
    {
     "output_type": "stream",
     "name": "stderr",
     "text": [
      "WARNING:tensorflow:Compiled the loaded model, but the compiled metrics have yet to be built. `model.compile_metrics` will be empty until you train or evaluate the model.\n"
     ]
    },
    {
     "output_type": "stream",
     "name": "stdout",
     "text": [
      "Saving Model\n",
      "This is running epoch 17 and Loss 0.015987\n",
      "PSNR: 18.53114939638062\n",
      "SSIM: 0.44212751100498887\n",
      "1/1 [==============================] - 5s 5s/step\n"
     ]
    },
    {
     "output_type": "stream",
     "name": "stderr",
     "text": [
      "WARNING:tensorflow:Compiled the loaded model, but the compiled metrics have yet to be built. `model.compile_metrics` will be empty until you train or evaluate the model.\n"
     ]
    },
    {
     "output_type": "stream",
     "name": "stdout",
     "text": [
      "Saving Model\n",
      "This is running epoch 18 and Loss 0.015840\n",
      "PSNR: 18.87570941526483\n",
      "SSIM: 0.4244552436006669\n",
      "1/1 [==============================] - 5s 5s/step\n"
     ]
    },
    {
     "output_type": "stream",
     "name": "stderr",
     "text": [
      "WARNING:tensorflow:Compiled the loaded model, but the compiled metrics have yet to be built. `model.compile_metrics` will be empty until you train or evaluate the model.\n"
     ]
    },
    {
     "output_type": "stream",
     "name": "stdout",
     "text": [
      "Saving Model\n",
      "This is running epoch 19 and Loss 0.014838\n",
      "PSNR: 19.299446872328424\n",
      "SSIM: 0.4532933695081107\n",
      "1/1 [==============================] - 5s 5s/step\n",
      "This is running epoch 20 and Loss 0.013618\n",
      "PSNR: 19.299446872328424\n",
      "SSIM: 0.4979163336873473\n",
      "1/1 [==============================] - 6s 6s/step\n",
      "This is running epoch 21 and Loss 0.015098\n",
      "PSNR: 19.299446872328424\n",
      "SSIM: 0.4223040997474457\n",
      "1/1 [==============================] - 5s 5s/step\n",
      "This is running epoch 22 and Loss 0.015446\n",
      "PSNR: 19.299446872328424\n",
      "SSIM: 0.46901694785173215\n",
      "1/1 [==============================] - 5s 5s/step\n",
      "This is running epoch 23 and Loss 0.013646\n",
      "PSNR: 19.299446872328424\n",
      "SSIM: 0.47505008342199145\n",
      "1/1 [==============================] - 5s 5s/step\n"
     ]
    },
    {
     "output_type": "stream",
     "name": "stderr",
     "text": [
      "WARNING:tensorflow:Compiled the loaded model, but the compiled metrics have yet to be built. `model.compile_metrics` will be empty until you train or evaluate the model.\n"
     ]
    },
    {
     "output_type": "stream",
     "name": "stdout",
     "text": [
      "Saving Model\n",
      "This is running epoch 24 and Loss 0.015216\n",
      "PSNR: 19.661698417794582\n",
      "SSIM: 0.49893495900285073\n",
      "1/1 [==============================] - 5s 5s/step\n"
     ]
    },
    {
     "output_type": "stream",
     "name": "stderr",
     "text": [
      "WARNING:tensorflow:Compiled the loaded model, but the compiled metrics have yet to be built. `model.compile_metrics` will be empty until you train or evaluate the model.\n"
     ]
    },
    {
     "output_type": "stream",
     "name": "stdout",
     "text": [
      "Saving Model\n",
      "This is running epoch 25 and Loss 0.012637\n",
      "PSNR: 19.679730676730834\n",
      "SSIM: 0.5002814581338821\n",
      "1/1 [==============================] - 5s 5s/step\n"
     ]
    },
    {
     "output_type": "stream",
     "name": "stderr",
     "text": [
      "WARNING:tensorflow:Compiled the loaded model, but the compiled metrics have yet to be built. `model.compile_metrics` will be empty until you train or evaluate the model.\n"
     ]
    },
    {
     "output_type": "stream",
     "name": "stdout",
     "text": [
      "Saving Model\n",
      "This is running epoch 26 and Loss 0.012637\n",
      "PSNR: 20.377501893921504\n",
      "SSIM: 0.5543222496775407\n",
      "1/1 [==============================] - 6s 6s/step\n",
      "This is running epoch 27 and Loss 0.011000\n",
      "PSNR: 20.377501893921504\n",
      "SSIM: 0.5802379968802631\n",
      "1/1 [==============================] - 5s 5s/step\n"
     ]
    },
    {
     "output_type": "stream",
     "name": "stderr",
     "text": [
      "WARNING:tensorflow:Compiled the loaded model, but the compiled metrics have yet to be built. `model.compile_metrics` will be empty until you train or evaluate the model.\n"
     ]
    },
    {
     "output_type": "stream",
     "name": "stdout",
     "text": [
      "Saving Model\n",
      "This is running epoch 28 and Loss 0.011733\n",
      "PSNR: 20.553249737243995\n",
      "SSIM: 0.5575506380633238\n",
      "1/1 [==============================] - 5s 5s/step\n"
     ]
    },
    {
     "output_type": "stream",
     "name": "stderr",
     "text": [
      "WARNING:tensorflow:Compiled the loaded model, but the compiled metrics have yet to be built. `model.compile_metrics` will be empty until you train or evaluate the model.\n"
     ]
    },
    {
     "output_type": "stream",
     "name": "stdout",
     "text": [
      "Saving Model\n",
      "This is running epoch 29 and Loss 0.010670\n",
      "PSNR: 21.14462370556422\n",
      "SSIM: 0.5946361135284984\n",
      "1/1 [==============================] - 5s 5s/step\n"
     ]
    },
    {
     "output_type": "stream",
     "name": "stderr",
     "text": [
      "WARNING:tensorflow:Compiled the loaded model, but the compiled metrics have yet to be built. `model.compile_metrics` will be empty until you train or evaluate the model.\n"
     ]
    },
    {
     "output_type": "stream",
     "name": "stdout",
     "text": [
      "Saving Model\n",
      "This is running epoch 30 and Loss 0.009518\n",
      "PSNR: 21.147000444859614\n",
      "SSIM: 0.614791937680788\n",
      "1/1 [==============================] - 5s 5s/step\n"
     ]
    },
    {
     "output_type": "stream",
     "name": "stderr",
     "text": [
      "WARNING:tensorflow:Compiled the loaded model, but the compiled metrics have yet to be built. `model.compile_metrics` will be empty until you train or evaluate the model.\n"
     ]
    },
    {
     "output_type": "stream",
     "name": "stdout",
     "text": [
      "Saving Model\n",
      "This is running epoch 31 and Loss 0.009462\n",
      "PSNR: 21.447055466311017\n",
      "SSIM: 0.6045552941133406\n",
      "1/1 [==============================] - 5s 5s/step\n"
     ]
    },
    {
     "output_type": "stream",
     "name": "stderr",
     "text": [
      "WARNING:tensorflow:Compiled the loaded model, but the compiled metrics have yet to be built. `model.compile_metrics` will be empty until you train or evaluate the model.\n"
     ]
    },
    {
     "output_type": "stream",
     "name": "stdout",
     "text": [
      "Saving Model\n",
      "This is running epoch 32 and Loss 0.008991\n",
      "PSNR: 21.778714362608497\n",
      "SSIM: 0.6261195726168175\n",
      "1/1 [==============================] - 5s 5s/step\n"
     ]
    },
    {
     "output_type": "stream",
     "name": "stderr",
     "text": [
      "WARNING:tensorflow:Compiled the loaded model, but the compiled metrics have yet to be built. `model.compile_metrics` will be empty until you train or evaluate the model.\n"
     ]
    },
    {
     "output_type": "stream",
     "name": "stdout",
     "text": [
      "Saving Model\n",
      "This is running epoch 33 and Loss 0.008431\n",
      "PSNR: 22.03565124673682\n",
      "SSIM: 0.631295851644978\n",
      "1/1 [==============================] - 5s 5s/step\n"
     ]
    },
    {
     "output_type": "stream",
     "name": "stderr",
     "text": [
      "WARNING:tensorflow:Compiled the loaded model, but the compiled metrics have yet to be built. `model.compile_metrics` will be empty until you train or evaluate the model.\n"
     ]
    },
    {
     "output_type": "stream",
     "name": "stdout",
     "text": [
      "Saving Model\n",
      "This is running epoch 34 and Loss 0.008059\n",
      "PSNR: 22.26457525298233\n",
      "SSIM: 0.6307177450085033\n",
      "1/1 [==============================] - 7s 7s/step\n"
     ]
    },
    {
     "output_type": "stream",
     "name": "stderr",
     "text": [
      "WARNING:tensorflow:Compiled the loaded model, but the compiled metrics have yet to be built. `model.compile_metrics` will be empty until you train or evaluate the model.\n"
     ]
    },
    {
     "output_type": "stream",
     "name": "stdout",
     "text": [
      "Saving Model\n",
      "This is running epoch 35 and Loss 0.007767\n",
      "PSNR: 22.61277264083288\n",
      "SSIM: 0.6494669834012736\n",
      "1/1 [==============================] - 5s 5s/step\n"
     ]
    },
    {
     "output_type": "stream",
     "name": "stderr",
     "text": [
      "WARNING:tensorflow:Compiled the loaded model, but the compiled metrics have yet to be built. `model.compile_metrics` will be empty until you train or evaluate the model.\n"
     ]
    },
    {
     "output_type": "stream",
     "name": "stdout",
     "text": [
      "Saving Model\n",
      "This is running epoch 36 and Loss 0.007278\n",
      "PSNR: 22.77199863842041\n",
      "SSIM: 0.6458265071329129\n",
      "1/1 [==============================] - 5s 5s/step\n",
      "This is running epoch 37 and Loss 0.007128\n",
      "PSNR: 22.77199863842041\n",
      "SSIM: 0.6581903692762547\n",
      "1/1 [==============================] - 5s 5s/step\n",
      "This is running epoch 38 and Loss 0.007911\n",
      "PSNR: 22.77199863842041\n",
      "SSIM: 0.5939954402952415\n",
      "1/1 [==============================] - 5s 5s/step\n"
     ]
    },
    {
     "output_type": "stream",
     "name": "stderr",
     "text": [
      "WARNING:tensorflow:Compiled the loaded model, but the compiled metrics have yet to be built. `model.compile_metrics` will be empty until you train or evaluate the model.\n"
     ]
    },
    {
     "output_type": "stream",
     "name": "stdout",
     "text": [
      "Saving Model\n",
      "This is running epoch 39 and Loss 0.010648\n",
      "PSNR: 23.292389664058142\n",
      "SSIM: 0.6680096534409092\n",
      "1/1 [==============================] - 5s 5s/step\n",
      "This is running epoch 40 and Loss 0.006497\n",
      "PSNR: 23.292389664058142\n",
      "SSIM: 0.6626888996707295\n",
      "1/1 [==============================] - 5s 5s/step\n",
      "This is running epoch 41 and Loss 0.007294\n",
      "PSNR: 23.292389664058142\n",
      "SSIM: 0.6241324140442673\n",
      "1/1 [==============================] - 6s 6s/step\n",
      "This is running epoch 42 and Loss 0.007902\n",
      "PSNR: 23.292389664058142\n",
      "SSIM: 0.6802433130862965\n",
      "1/1 [==============================] - 5s 5s/step\n"
     ]
    },
    {
     "output_type": "stream",
     "name": "stderr",
     "text": [
      "WARNING:tensorflow:Compiled the loaded model, but the compiled metrics have yet to be built. `model.compile_metrics` will be empty until you train or evaluate the model.\n"
     ]
    },
    {
     "output_type": "stream",
     "name": "stdout",
     "text": [
      "Saving Model\n",
      "This is running epoch 43 and Loss 0.006734\n",
      "PSNR: 23.826539750057556\n",
      "SSIM: 0.6868375867523131\n",
      "1/1 [==============================] - 5s 5s/step\n",
      "This is running epoch 44 and Loss 0.005950\n",
      "PSNR: 23.826539750057556\n",
      "SSIM: 0.6692605920480288\n",
      "1/1 [==============================] - 6s 6s/step\n"
     ]
    },
    {
     "output_type": "stream",
     "name": "stderr",
     "text": [
      "WARNING:tensorflow:Compiled the loaded model, but the compiled metrics have yet to be built. `model.compile_metrics` will be empty until you train or evaluate the model.\n"
     ]
    },
    {
     "output_type": "stream",
     "name": "stdout",
     "text": [
      "Saving Model\n",
      "This is running epoch 45 and Loss 0.006664\n",
      "PSNR: 24.15516070812663\n",
      "SSIM: 0.69986459471834\n",
      "1/1 [==============================] - 5s 5s/step\n",
      "This is running epoch 46 and Loss 0.005634\n",
      "PSNR: 24.15516070812663\n",
      "SSIM: 0.7020307725221925\n",
      "1/1 [==============================] - 5s 5s/step\n",
      "This is running epoch 47 and Loss 0.005930\n",
      "PSNR: 24.15516070812663\n",
      "SSIM: 0.6736750439208742\n",
      "1/1 [==============================] - 7s 7s/step\n"
     ]
    },
    {
     "output_type": "stream",
     "name": "stderr",
     "text": [
      "WARNING:tensorflow:Compiled the loaded model, but the compiled metrics have yet to be built. `model.compile_metrics` will be empty until you train or evaluate the model.\n"
     ]
    },
    {
     "output_type": "stream",
     "name": "stdout",
     "text": [
      "Saving Model\n",
      "This is running epoch 48 and Loss 0.006701\n",
      "PSNR: 24.61797160025668\n",
      "SSIM: 0.7102749722806975\n",
      "1/1 [==============================] - 5s 5s/step\n",
      "This is running epoch 49 and Loss 0.005234\n",
      "PSNR: 24.61797160025668\n",
      "SSIM: 0.7144163256475679\n",
      "1/1 [==============================] - 5s 5s/step\n",
      "This is running epoch 50 and Loss 0.005486\n",
      "PSNR: 24.61797160025668\n",
      "SSIM: 0.6997538623025894\n",
      "1/1 [==============================] - 6s 6s/step\n"
     ]
    },
    {
     "output_type": "stream",
     "name": "stderr",
     "text": [
      "WARNING:tensorflow:Compiled the loaded model, but the compiled metrics have yet to be built. `model.compile_metrics` will be empty until you train or evaluate the model.\n"
     ]
    },
    {
     "output_type": "stream",
     "name": "stdout",
     "text": [
      "Saving Model\n",
      "This is running epoch 51 and Loss 0.005765\n",
      "PSNR: 25.110786570810607\n",
      "SSIM: 0.7207827718419365\n",
      "1/1 [==============================] - 5s 5s/step\n",
      "This is running epoch 52 and Loss 0.004904\n",
      "PSNR: 25.110786570810607\n",
      "SSIM: 0.7226869473806193\n",
      "1/1 [==============================] - 5s 5s/step\n"
     ]
    },
    {
     "output_type": "stream",
     "name": "stderr",
     "text": [
      "WARNING:tensorflow:Compiled the loaded model, but the compiled metrics have yet to be built. `model.compile_metrics` will be empty until you train or evaluate the model.\n"
     ]
    },
    {
     "output_type": "stream",
     "name": "stdout",
     "text": [
      "Saving Model\n",
      "This is running epoch 53 and Loss 0.005406\n",
      "PSNR: 25.442896994966482\n",
      "SSIM: 0.727023924408956\n",
      "1/1 [==============================] - 5s 5s/step\n",
      "This is running epoch 54 and Loss 0.004666\n",
      "PSNR: 25.442896994966482\n",
      "SSIM: 0.7185586231350202\n",
      "1/1 [==============================] - 5s 5s/step\n"
     ]
    },
    {
     "output_type": "stream",
     "name": "stderr",
     "text": [
      "WARNING:tensorflow:Compiled the loaded model, but the compiled metrics have yet to be built. `model.compile_metrics` will be empty until you train or evaluate the model.\n"
     ]
    },
    {
     "output_type": "stream",
     "name": "stdout",
     "text": [
      "Saving Model\n",
      "This is running epoch 55 and Loss 0.005077\n",
      "PSNR: 25.78563523190738\n",
      "SSIM: 0.7363985155653445\n",
      "1/1 [==============================] - 5s 5s/step\n",
      "This is running epoch 56 and Loss 0.004424\n",
      "PSNR: 25.78563523190738\n",
      "SSIM: 0.7382541897930339\n",
      "1/1 [==============================] - 5s 5s/step\n",
      "This is running epoch 57 and Loss 0.004711\n",
      "PSNR: 25.78563523190738\n",
      "SSIM: 0.7333472023104294\n",
      "1/1 [==============================] - 5s 5s/step\n"
     ]
    },
    {
     "output_type": "stream",
     "name": "stderr",
     "text": [
      "WARNING:tensorflow:Compiled the loaded model, but the compiled metrics have yet to be built. `model.compile_metrics` will be empty until you train or evaluate the model.\n"
     ]
    },
    {
     "output_type": "stream",
     "name": "stdout",
     "text": [
      "Saving Model\n",
      "This is running epoch 58 and Loss 0.004501\n",
      "PSNR: 25.952271540178646\n",
      "SSIM: 0.7379649701322893\n",
      "1/1 [==============================] - 5s 5s/step\n",
      "This is running epoch 59 and Loss 0.004367\n",
      "PSNR: 25.952271540178646\n",
      "SSIM: 0.749106318288821\n",
      "1/1 [==============================] - 5s 5s/step\n"
     ]
    },
    {
     "output_type": "stream",
     "name": "stderr",
     "text": [
      "WARNING:tensorflow:Compiled the loaded model, but the compiled metrics have yet to be built. `model.compile_metrics` will be empty until you train or evaluate the model.\n"
     ]
    },
    {
     "output_type": "stream",
     "name": "stdout",
     "text": [
      "Saving Model\n",
      "This is running epoch 60 and Loss 0.004354\n",
      "PSNR: 26.504224754903873\n",
      "SSIM: 0.752361811308049\n",
      "1/1 [==============================] - 5s 5s/step\n",
      "This is running epoch 61 and Loss 0.004027\n",
      "PSNR: 26.504224754903873\n",
      "SSIM: 0.7484694597284969\n",
      "1/1 [==============================] - 5s 5s/step\n"
     ]
    },
    {
     "output_type": "stream",
     "name": "stderr",
     "text": [
      "WARNING:tensorflow:Compiled the loaded model, but the compiled metrics have yet to be built. `model.compile_metrics` will be empty until you train or evaluate the model.\n"
     ]
    },
    {
     "output_type": "stream",
     "name": "stdout",
     "text": [
      "Saving Model\n",
      "This is running epoch 62 and Loss 0.004232\n",
      "PSNR: 26.648310579463015\n",
      "SSIM: 0.7594726235387066\n",
      "1/1 [==============================] - 5s 5s/step\n"
     ]
    },
    {
     "output_type": "stream",
     "name": "stderr",
     "text": [
      "WARNING:tensorflow:Compiled the loaded model, but the compiled metrics have yet to be built. `model.compile_metrics` will be empty until you train or evaluate the model.\n"
     ]
    },
    {
     "output_type": "stream",
     "name": "stdout",
     "text": [
      "Saving Model\n",
      "This is running epoch 63 and Loss 0.003944\n",
      "PSNR: 26.69353971502611\n",
      "SSIM: 0.7616006823743032\n",
      "1/1 [==============================] - 5s 5s/step\n",
      "This is running epoch 64 and Loss 0.003923\n",
      "PSNR: 26.69353971502611\n",
      "SSIM: 0.7550240970929697\n",
      "1/1 [==============================] - 5s 5s/step\n"
     ]
    },
    {
     "output_type": "stream",
     "name": "stderr",
     "text": [
      "WARNING:tensorflow:Compiled the loaded model, but the compiled metrics have yet to be built. `model.compile_metrics` will be empty until you train or evaluate the model.\n"
     ]
    },
    {
     "output_type": "stream",
     "name": "stdout",
     "text": [
      "Saving Model\n",
      "This is running epoch 65 and Loss 0.004025\n",
      "PSNR: 27.0220893301971\n",
      "SSIM: 0.7655753679310399\n",
      "1/1 [==============================] - 7s 7s/step\n",
      "This is running epoch 66 and Loss 0.003769\n",
      "PSNR: 27.0220893301971\n",
      "SSIM: 0.7678918236866075\n",
      "1/1 [==============================] - 5s 5s/step\n",
      "This is running epoch 67 and Loss 0.003844\n",
      "PSNR: 27.0220893301971\n",
      "SSIM: 0.7587072589724699\n",
      "1/1 [==============================] - 5s 5s/step\n"
     ]
    },
    {
     "output_type": "stream",
     "name": "stderr",
     "text": [
      "WARNING:tensorflow:Compiled the loaded model, but the compiled metrics have yet to be built. `model.compile_metrics` will be empty until you train or evaluate the model.\n"
     ]
    },
    {
     "output_type": "stream",
     "name": "stdout",
     "text": [
      "Saving Model\n",
      "This is running epoch 68 and Loss 0.004021\n",
      "PSNR: 27.116587565426308\n",
      "SSIM: 0.7722389044148354\n",
      "1/1 [==============================] - 5s 5s/step\n"
     ]
    },
    {
     "output_type": "stream",
     "name": "stderr",
     "text": [
      "WARNING:tensorflow:Compiled the loaded model, but the compiled metrics have yet to be built. `model.compile_metrics` will be empty until you train or evaluate the model.\n"
     ]
    },
    {
     "output_type": "stream",
     "name": "stdout",
     "text": [
      "Saving Model\n",
      "This is running epoch 69 and Loss 0.003717\n",
      "PSNR: 27.29849100986282\n",
      "SSIM: 0.7741128504794996\n",
      "1/1 [==============================] - 5s 5s/step\n",
      "This is running epoch 70 and Loss 0.003647\n",
      "PSNR: 27.29849100986282\n",
      "SSIM: 0.7696993058039657\n",
      "1/1 [==============================] - 5s 5s/step\n",
      "This is running epoch 71 and Loss 0.003778\n",
      "PSNR: 27.29849100986282\n",
      "SSIM: 0.7784571967864594\n",
      "1/1 [==============================] - 5s 5s/step\n"
     ]
    },
    {
     "output_type": "stream",
     "name": "stderr",
     "text": [
      "WARNING:tensorflow:Compiled the loaded model, but the compiled metrics have yet to be built. `model.compile_metrics` will be empty until you train or evaluate the model.\n"
     ]
    },
    {
     "output_type": "stream",
     "name": "stdout",
     "text": [
      "Saving Model\n",
      "This is running epoch 72 and Loss 0.003693\n",
      "PSNR: 27.509949618583317\n",
      "SSIM: 0.7775043783335803\n",
      "1/1 [==============================] - 5s 5s/step\n"
     ]
    },
    {
     "output_type": "stream",
     "name": "stderr",
     "text": [
      "WARNING:tensorflow:Compiled the loaded model, but the compiled metrics have yet to be built. `model.compile_metrics` will be empty until you train or evaluate the model.\n"
     ]
    },
    {
     "output_type": "stream",
     "name": "stdout",
     "text": [
      "Saving Model\n",
      "This is running epoch 73 and Loss 0.003572\n",
      "PSNR: 27.567341219161335\n",
      "SSIM: 0.7798382151266186\n",
      "1/1 [==============================] - 6s 6s/step\n",
      "This is running epoch 74 and Loss 0.003546\n",
      "PSNR: 27.567341219161335\n",
      "SSIM: 0.7849801302787268\n",
      "1/1 [==============================] - 5s 5s/step\n",
      "This is running epoch 75 and Loss 0.003587\n",
      "PSNR: 27.567341219161335\n",
      "SSIM: 0.7824055602078336\n",
      "1/1 [==============================] - 5s 5s/step\n"
     ]
    },
    {
     "output_type": "stream",
     "name": "stderr",
     "text": [
      "WARNING:tensorflow:Compiled the loaded model, but the compiled metrics have yet to be built. `model.compile_metrics` will be empty until you train or evaluate the model.\n"
     ]
    },
    {
     "output_type": "stream",
     "name": "stdout",
     "text": [
      "Saving Model\n",
      "This is running epoch 76 and Loss 0.003569\n",
      "PSNR: 27.738962515684108\n",
      "SSIM: 0.7888213597465492\n",
      "1/1 [==============================] - 5s 5s/step\n",
      "This is running epoch 77 and Loss 0.003465\n",
      "PSNR: 27.738962515684108\n",
      "SSIM: 0.7910544868099874\n",
      "1/1 [==============================] - 5s 5s/step\n",
      "This is running epoch 78 and Loss 0.003459\n",
      "PSNR: 27.738962515684108\n",
      "SSIM: 0.7882457189739364\n",
      "1/1 [==============================] - 5s 5s/step\n"
     ]
    },
    {
     "output_type": "stream",
     "name": "stderr",
     "text": [
      "WARNING:tensorflow:Compiled the loaded model, but the compiled metrics have yet to be built. `model.compile_metrics` will be empty until you train or evaluate the model.\n"
     ]
    },
    {
     "output_type": "stream",
     "name": "stdout",
     "text": [
      "Saving Model\n",
      "This is running epoch 79 and Loss 0.003508\n",
      "PSNR: 27.752547766724838\n",
      "SSIM: 0.7946754634054037\n",
      "1/1 [==============================] - 5s 5s/step\n"
     ]
    },
    {
     "output_type": "stream",
     "name": "stderr",
     "text": [
      "WARNING:tensorflow:Compiled the loaded model, but the compiled metrics have yet to be built. `model.compile_metrics` will be empty until you train or evaluate the model.\n"
     ]
    },
    {
     "output_type": "stream",
     "name": "stdout",
     "text": [
      "Saving Model\n",
      "This is running epoch 80 and Loss 0.003446\n",
      "PSNR: 27.995497607638328\n",
      "SSIM: 0.7947672160778889\n",
      "1/1 [==============================] - 5s 5s/step\n"
     ]
    },
    {
     "output_type": "stream",
     "name": "stderr",
     "text": [
      "WARNING:tensorflow:Compiled the loaded model, but the compiled metrics have yet to be built. `model.compile_metrics` will be empty until you train or evaluate the model.\n"
     ]
    },
    {
     "output_type": "stream",
     "name": "stdout",
     "text": [
      "Saving Model\n",
      "This is running epoch 81 and Loss 0.003373\n",
      "PSNR: 28.02491672707057\n",
      "SSIM: 0.7956204900956819\n",
      "1/1 [==============================] - 5s 5s/step\n",
      "This is running epoch 82 and Loss 0.003369\n",
      "PSNR: 28.02491672707057\n",
      "SSIM: 0.7995643447572097\n",
      "1/1 [==============================] - 5s 5s/step\n",
      "This is running epoch 83 and Loss 0.003391\n",
      "PSNR: 28.02491672707057\n",
      "SSIM: 0.7971267501555924\n",
      "1/1 [==============================] - 5s 5s/step\n"
     ]
    },
    {
     "output_type": "stream",
     "name": "stderr",
     "text": [
      "WARNING:tensorflow:Compiled the loaded model, but the compiled metrics have yet to be built. `model.compile_metrics` will be empty until you train or evaluate the model.\n"
     ]
    },
    {
     "output_type": "stream",
     "name": "stdout",
     "text": [
      "Saving Model\n",
      "This is running epoch 84 and Loss 0.003385\n",
      "PSNR: 28.079454821737627\n",
      "SSIM: 0.8025969903349109\n",
      "1/1 [==============================] - 5s 5s/step\n"
     ]
    },
    {
     "output_type": "stream",
     "name": "stderr",
     "text": [
      "WARNING:tensorflow:Compiled the loaded model, but the compiled metrics have yet to be built. `model.compile_metrics` will be empty until you train or evaluate the model.\n"
     ]
    },
    {
     "output_type": "stream",
     "name": "stdout",
     "text": [
      "Saving Model\n",
      "This is running epoch 85 and Loss 0.003327\n",
      "PSNR: 28.24222051352884\n",
      "SSIM: 0.8027994107647918\n",
      "1/1 [==============================] - 5s 5s/step\n"
     ]
    },
    {
     "output_type": "stream",
     "name": "stderr",
     "text": [
      "WARNING:tensorflow:Compiled the loaded model, but the compiled metrics have yet to be built. `model.compile_metrics` will be empty until you train or evaluate the model.\n"
     ]
    },
    {
     "output_type": "stream",
     "name": "stdout",
     "text": [
      "Saving Model\n",
      "This is running epoch 86 and Loss 0.003284\n",
      "PSNR: 28.307010159221303\n",
      "SSIM: 0.8047035353343033\n",
      "1/1 [==============================] - 5s 5s/step\n",
      "This is running epoch 87 and Loss 0.003261\n",
      "PSNR: 28.307010159221303\n",
      "SSIM: 0.807610197625012\n",
      "1/1 [==============================] - 6s 6s/step\n",
      "This is running epoch 88 and Loss 0.003267\n",
      "PSNR: 28.307010159221303\n",
      "SSIM: 0.8048329378563277\n",
      "1/1 [==============================] - 5s 5s/step\n",
      "This is running epoch 89 and Loss 0.003307\n",
      "PSNR: 28.307010159221303\n",
      "SSIM: 0.8104573057142294\n",
      "1/1 [==============================] - 5s 5s/step\n",
      "This is running epoch 90 and Loss 0.003392\n",
      "PSNR: 28.307010159221303\n",
      "SSIM: 0.795321414000628\n",
      "1/1 [==============================] - 5s 5s/step\n",
      "This is running epoch 91 and Loss 0.003775\n",
      "PSNR: 28.307010159221303\n",
      "SSIM: 0.8091559674975609\n",
      "1/1 [==============================] - 5s 5s/step\n",
      "This is running epoch 92 and Loss 0.003773\n",
      "PSNR: 28.307010159221303\n",
      "SSIM: 0.800549098502005\n",
      "1/1 [==============================] - 5s 5s/step\n"
     ]
    },
    {
     "output_type": "stream",
     "name": "stderr",
     "text": [
      "WARNING:tensorflow:Compiled the loaded model, but the compiled metrics have yet to be built. `model.compile_metrics` will be empty until you train or evaluate the model.\n"
     ]
    },
    {
     "output_type": "stream",
     "name": "stdout",
     "text": [
      "Saving Model\n",
      "This is running epoch 93 and Loss 0.003617\n",
      "PSNR: 28.49594815097317\n",
      "SSIM: 0.8126617887231976\n",
      "1/1 [==============================] - 5s 5s/step\n",
      "This is running epoch 94 and Loss 0.003195\n",
      "PSNR: 28.49594815097317\n",
      "SSIM: 0.8122155912203387\n",
      "1/1 [==============================] - 5s 5s/step\n",
      "This is running epoch 95 and Loss 0.003604\n",
      "PSNR: 28.49594815097317\n",
      "SSIM: 0.8041957332441496\n",
      "1/1 [==============================] - 5s 5s/step\n",
      "This is running epoch 96 and Loss 0.003512\n",
      "PSNR: 28.49594815097317\n",
      "SSIM: 0.8110841130098629\n",
      "1/1 [==============================] - 5s 5s/step\n",
      "This is running epoch 97 and Loss 0.003271\n",
      "PSNR: 28.49594815097317\n",
      "SSIM: 0.8142579057379696\n",
      "1/1 [==============================] - 7s 7s/step\n"
     ]
    },
    {
     "output_type": "stream",
     "name": "stderr",
     "text": [
      "WARNING:tensorflow:Compiled the loaded model, but the compiled metrics have yet to be built. `model.compile_metrics` will be empty until you train or evaluate the model.\n"
     ]
    },
    {
     "output_type": "stream",
     "name": "stdout",
     "text": [
      "Saving Model\n",
      "This is running epoch 98 and Loss 0.003598\n",
      "PSNR: 28.52947751565006\n",
      "SSIM: 0.8152168878777369\n",
      "1/1 [==============================] - 5s 5s/step\n",
      "This is running epoch 99 and Loss 0.003190\n",
      "PSNR: 28.52947751565006\n",
      "SSIM: 0.8100675523147017\n",
      "1/1 [==============================] - 5s 5s/step\n",
      "This is running epoch 100 and Loss 0.003404\n",
      "PSNR: 28.52947751565006\n",
      "SSIM: 0.8198242624610657\n",
      "1/1 [==============================] - 5s 5s/step\n",
      "This is running epoch 101 and Loss 0.003201\n",
      "PSNR: 28.52947751565006\n",
      "SSIM: 0.8208599170005829\n",
      "1/1 [==============================] - 5s 5s/step\n",
      "This is running epoch 102 and Loss 0.003253\n",
      "PSNR: 28.52947751565006\n",
      "SSIM: 0.8161953452711292\n",
      "1/1 [==============================] - 5s 5s/step\n"
     ]
    },
    {
     "output_type": "stream",
     "name": "stderr",
     "text": [
      "WARNING:tensorflow:Compiled the loaded model, but the compiled metrics have yet to be built. `model.compile_metrics` will be empty until you train or evaluate the model.\n"
     ]
    },
    {
     "output_type": "stream",
     "name": "stdout",
     "text": [
      "Saving Model\n",
      "This is running epoch 103 and Loss 0.003271\n",
      "PSNR: 28.723030540696023\n",
      "SSIM: 0.8210958352357383\n",
      "1/1 [==============================] - 5s 5s/step\n",
      "This is running epoch 104 and Loss 0.003128\n",
      "PSNR: 28.723030540696023\n",
      "SSIM: 0.8240277454693479\n",
      "1/1 [==============================] - 7s 7s/step\n"
     ]
    },
    {
     "output_type": "stream",
     "name": "stderr",
     "text": [
      "WARNING:tensorflow:Compiled the loaded model, but the compiled metrics have yet to be built. `model.compile_metrics` will be empty until you train or evaluate the model.\n"
     ]
    },
    {
     "output_type": "stream",
     "name": "stdout",
     "text": [
      "Saving Model\n",
      "This is running epoch 105 and Loss 0.003292\n",
      "PSNR: 28.860704431599757\n",
      "SSIM: 0.8240273467417347\n",
      "1/1 [==============================] - 5s 5s/step\n",
      "This is running epoch 106 and Loss 0.003082\n",
      "PSNR: 28.860704431599757\n",
      "SSIM: 0.8222309583778524\n",
      "1/1 [==============================] - 5s 5s/step\n",
      "This is running epoch 107 and Loss 0.003162\n",
      "PSNR: 28.860704431599757\n",
      "SSIM: 0.8282698760599713\n",
      "1/1 [==============================] - 5s 5s/step\n"
     ]
    },
    {
     "output_type": "stream",
     "name": "stderr",
     "text": [
      "WARNING:tensorflow:Compiled the loaded model, but the compiled metrics have yet to be built. `model.compile_metrics` will be empty until you train or evaluate the model.\n"
     ]
    },
    {
     "output_type": "stream",
     "name": "stdout",
     "text": [
      "Saving Model\n",
      "This is running epoch 108 and Loss 0.003130\n",
      "PSNR: 28.99103480543615\n",
      "SSIM: 0.8292241243795904\n",
      "1/1 [==============================] - 5s 5s/step\n",
      "This is running epoch 109 and Loss 0.003028\n",
      "PSNR: 28.99103480543615\n",
      "SSIM: 0.8256812362403549\n",
      "1/1 [==============================] - 7s 7s/step\n"
     ]
    },
    {
     "output_type": "stream",
     "name": "stderr",
     "text": [
      "WARNING:tensorflow:Compiled the loaded model, but the compiled metrics have yet to be built. `model.compile_metrics` will be empty until you train or evaluate the model.\n"
     ]
    },
    {
     "output_type": "stream",
     "name": "stdout",
     "text": [
      "Saving Model\n",
      "This is running epoch 110 and Loss 0.003121\n",
      "PSNR: 29.015175095017156\n",
      "SSIM: 0.8319674451978063\n",
      "1/1 [==============================] - 5s 5s/step\n",
      "This is running epoch 111 and Loss 0.003017\n",
      "PSNR: 29.015175095017156\n",
      "SSIM: 0.8333822165789214\n",
      "1/1 [==============================] - 5s 5s/step\n",
      "This is running epoch 112 and Loss 0.003021\n",
      "PSNR: 29.015175095017156\n",
      "SSIM: 0.8302085571123049\n",
      "1/1 [==============================] - 5s 5s/step\n"
     ]
    },
    {
     "output_type": "stream",
     "name": "stderr",
     "text": [
      "WARNING:tensorflow:Compiled the loaded model, but the compiled metrics have yet to be built. `model.compile_metrics` will be empty until you train or evaluate the model.\n"
     ]
    },
    {
     "output_type": "stream",
     "name": "stdout",
     "text": [
      "Saving Model\n",
      "This is running epoch 113 and Loss 0.003063\n",
      "PSNR: 29.212460948227836\n",
      "SSIM: 0.8357086221681989\n",
      "1/1 [==============================] - 5s 5s/step\n",
      "This is running epoch 114 and Loss 0.002964\n",
      "PSNR: 29.212460948227836\n",
      "SSIM: 0.8373851334913457\n",
      "1/1 [==============================] - 7s 7s/step\n",
      "This is running epoch 115 and Loss 0.002991\n",
      "PSNR: 29.212460948227836\n",
      "SSIM: 0.8345008068341827\n",
      "1/1 [==============================] - 5s 5s/step\n"
     ]
    },
    {
     "output_type": "stream",
     "name": "stderr",
     "text": [
      "WARNING:tensorflow:Compiled the loaded model, but the compiled metrics have yet to be built. `model.compile_metrics` will be empty until you train or evaluate the model.\n"
     ]
    },
    {
     "output_type": "stream",
     "name": "stdout",
     "text": [
      "Saving Model\n",
      "This is running epoch 116 and Loss 0.003021\n",
      "PSNR: 29.31638221022196\n",
      "SSIM: 0.839758784532136\n",
      "1/1 [==============================] - 5s 5s/step\n",
      "This is running epoch 117 and Loss 0.002931\n",
      "PSNR: 29.31638221022196\n",
      "SSIM: 0.8412858424442403\n",
      "1/1 [==============================] - 5s 5s/step\n",
      "This is running epoch 118 and Loss 0.002940\n",
      "PSNR: 29.31638221022196\n",
      "SSIM: 0.8387276267052858\n",
      "1/1 [==============================] - 5s 5s/step\n"
     ]
    },
    {
     "output_type": "stream",
     "name": "stderr",
     "text": [
      "WARNING:tensorflow:Compiled the loaded model, but the compiled metrics have yet to be built. `model.compile_metrics` will be empty until you train or evaluate the model.\n"
     ]
    },
    {
     "output_type": "stream",
     "name": "stdout",
     "text": [
      "Saving Model\n",
      "This is running epoch 119 and Loss 0.002980\n",
      "PSNR: 29.365485989763233\n",
      "SSIM: 0.8438643227729454\n",
      "1/1 [==============================] - 5s 5s/step\n"
     ]
    },
    {
     "output_type": "stream",
     "name": "stderr",
     "text": [
      "WARNING:tensorflow:Compiled the loaded model, but the compiled metrics have yet to be built. `model.compile_metrics` will be empty until you train or evaluate the model.\n"
     ]
    },
    {
     "output_type": "stream",
     "name": "stdout",
     "text": [
      "Saving Model\n",
      "This is running epoch 120 and Loss 0.002912\n",
      "PSNR: 29.49848847710888\n",
      "SSIM: 0.8448689023440931\n",
      "1/1 [==============================] - 5s 5s/step\n",
      "This is running epoch 121 and Loss 0.002882\n",
      "PSNR: 29.49848847710888\n",
      "SSIM: 0.8434693399142271\n",
      "1/1 [==============================] - 5s 5s/step\n",
      "This is running epoch 122 and Loss 0.002916\n",
      "PSNR: 29.49848847710888\n",
      "SSIM: 0.8476540300708597\n",
      "1/1 [==============================] - 5s 5s/step\n"
     ]
    },
    {
     "output_type": "stream",
     "name": "stderr",
     "text": [
      "WARNING:tensorflow:Compiled the loaded model, but the compiled metrics have yet to be built. `model.compile_metrics` will be empty until you train or evaluate the model.\n"
     ]
    },
    {
     "output_type": "stream",
     "name": "stdout",
     "text": [
      "Saving Model\n",
      "This is running epoch 123 and Loss 0.002897\n",
      "PSNR: 29.64999272274412\n",
      "SSIM: 0.8476075962438278\n",
      "1/1 [==============================] - 5s 5s/step\n"
     ]
    },
    {
     "output_type": "stream",
     "name": "stderr",
     "text": [
      "WARNING:tensorflow:Compiled the loaded model, but the compiled metrics have yet to be built. `model.compile_metrics` will be empty until you train or evaluate the model.\n"
     ]
    },
    {
     "output_type": "stream",
     "name": "stdout",
     "text": [
      "Saving Model\n",
      "This is running epoch 124 and Loss 0.002851\n",
      "PSNR: 29.6894222412713\n",
      "SSIM: 0.8488484011780061\n",
      "1/1 [==============================] - 7s 7s/step\n",
      "This is running epoch 125 and Loss 0.002841\n",
      "PSNR: 29.6894222412713\n",
      "SSIM: 0.8513214362037436\n",
      "1/1 [==============================] - 5s 5s/step\n",
      "This is running epoch 126 and Loss 0.002858\n",
      "PSNR: 29.6894222412713\n",
      "SSIM: 0.8498214992972927\n",
      "1/1 [==============================] - 5s 5s/step\n"
     ]
    },
    {
     "output_type": "stream",
     "name": "stderr",
     "text": [
      "WARNING:tensorflow:Compiled the loaded model, but the compiled metrics have yet to be built. `model.compile_metrics` will be empty until you train or evaluate the model.\n"
     ]
    },
    {
     "output_type": "stream",
     "name": "stdout",
     "text": [
      "Saving Model\n",
      "This is running epoch 127 and Loss 0.002858\n",
      "PSNR: 29.69459915677222\n",
      "SSIM: 0.8536893517091311\n",
      "1/1 [==============================] - 5s 5s/step\n"
     ]
    },
    {
     "output_type": "stream",
     "name": "stderr",
     "text": [
      "WARNING:tensorflow:Compiled the loaded model, but the compiled metrics have yet to be built. `model.compile_metrics` will be empty until you train or evaluate the model.\n"
     ]
    },
    {
     "output_type": "stream",
     "name": "stdout",
     "text": [
      "Saving Model\n",
      "This is running epoch 128 and Loss 0.002823\n",
      "PSNR: 29.85920302973861\n",
      "SSIM: 0.8540586733649433\n",
      "1/1 [==============================] - 5s 5s/step\n"
     ]
    },
    {
     "output_type": "stream",
     "name": "stderr",
     "text": [
      "WARNING:tensorflow:Compiled the loaded model, but the compiled metrics have yet to be built. `model.compile_metrics` will be empty until you train or evaluate the model.\n"
     ]
    },
    {
     "output_type": "stream",
     "name": "stdout",
     "text": [
      "Saving Model\n",
      "This is running epoch 129 and Loss 0.002794\n",
      "PSNR: 29.895347455066567\n",
      "SSIM: 0.8550374958962896\n",
      "1/1 [==============================] - 5s 5s/step\n",
      "This is running epoch 130 and Loss 0.002786\n",
      "PSNR: 29.895347455066567\n",
      "SSIM: 0.8572431643642816\n",
      "1/1 [==============================] - 5s 5s/step\n",
      "This is running epoch 131 and Loss 0.002794\n",
      "PSNR: 29.895347455066567\n",
      "SSIM: 0.855709873047732\n",
      "1/1 [==============================] - 7s 7s/step\n",
      "This is running epoch 132 and Loss 0.002810\n",
      "PSNR: 29.895347455066567\n",
      "SSIM: 0.8594941173438502\n",
      "1/1 [==============================] - 5s 5s/step\n",
      "This is running epoch 133 and Loss 0.002824\n",
      "PSNR: 29.895347455066567\n",
      "SSIM: 0.8559477818944387\n",
      "1/1 [==============================] - 5s 5s/step\n",
      "This is running epoch 134 and Loss 0.002861\n",
      "PSNR: 29.895347455066567\n",
      "SSIM: 0.8611424554703179\n",
      "1/1 [==============================] - 5s 5s/step\n",
      "This is running epoch 135 and Loss 0.002882\n",
      "PSNR: 29.895347455066567\n",
      "SSIM: 0.8555577505902132\n",
      "1/1 [==============================] - 5s 5s/step\n",
      "This is running epoch 136 and Loss 0.002939\n",
      "PSNR: 29.895347455066567\n",
      "SSIM: 0.8628886446767273\n",
      "1/1 [==============================] - 7s 7s/step\n"
     ]
    },
    {
     "output_type": "stream",
     "name": "stderr",
     "text": [
      "WARNING:tensorflow:Compiled the loaded model, but the compiled metrics have yet to be built. `model.compile_metrics` will be empty until you train or evaluate the model.\n"
     ]
    },
    {
     "output_type": "stream",
     "name": "stdout",
     "text": [
      "Saving Model\n",
      "This is running epoch 137 and Loss 0.002874\n",
      "PSNR: 29.905921619664284\n",
      "SSIM: 0.8606168987533852\n",
      "1/1 [==============================] - 5s 5s/step\n"
     ]
    },
    {
     "output_type": "stream",
     "name": "stderr",
     "text": [
      "WARNING:tensorflow:Compiled the loaded model, but the compiled metrics have yet to be built. `model.compile_metrics` will be empty until you train or evaluate the model.\n"
     ]
    },
    {
     "output_type": "stream",
     "name": "stdout",
     "text": [
      "Saving Model\n",
      "This is running epoch 138 and Loss 0.002793\n",
      "PSNR: 30.16704781437258\n",
      "SSIM: 0.8649251210834893\n",
      "1/1 [==============================] - 5s 5s/step\n",
      "This is running epoch 139 and Loss 0.002710\n",
      "PSNR: 30.16704781437258\n",
      "SSIM: 0.8663080422648254\n",
      "1/1 [==============================] - 5s 5s/step\n",
      "This is running epoch 140 and Loss 0.002731\n",
      "PSNR: 30.16704781437258\n",
      "SSIM: 0.8634126835130221\n",
      "1/1 [==============================] - 5s 5s/step\n",
      "This is running epoch 141 and Loss 0.002789\n",
      "PSNR: 30.16704781437258\n",
      "SSIM: 0.8684340082020525\n",
      "1/1 [==============================] - 5s 5s/step\n"
     ]
    },
    {
     "output_type": "stream",
     "name": "stderr",
     "text": [
      "WARNING:tensorflow:Compiled the loaded model, but the compiled metrics have yet to be built. `model.compile_metrics` will be empty until you train or evaluate the model.\n"
     ]
    },
    {
     "output_type": "stream",
     "name": "stdout",
     "text": [
      "Saving Model\n",
      "This is running epoch 142 and Loss 0.002750\n",
      "PSNR: 30.307550505709806\n",
      "SSIM: 0.868035901033266\n",
      "1/1 [==============================] - 5s 5s/step\n"
     ]
    },
    {
     "output_type": "stream",
     "name": "stderr",
     "text": [
      "WARNING:tensorflow:Compiled the loaded model, but the compiled metrics have yet to be built. `model.compile_metrics` will be empty until you train or evaluate the model.\n"
     ]
    },
    {
     "output_type": "stream",
     "name": "stdout",
     "text": [
      "Saving Model\n",
      "This is running epoch 143 and Loss 0.002687\n",
      "PSNR: 30.385909589452954\n",
      "SSIM: 0.8697798341780976\n",
      "1/1 [==============================] - 5s 5s/step\n",
      "This is running epoch 144 and Loss 0.002665\n",
      "PSNR: 30.385909589452954\n",
      "SSIM: 0.8715484303549389\n",
      "1/1 [==============================] - 5s 5s/step\n",
      "This is running epoch 145 and Loss 0.002693\n",
      "PSNR: 30.385909589452954\n",
      "SSIM: 0.8693510953421377\n",
      "1/1 [==============================] - 5s 5s/step\n",
      "This is running epoch 146 and Loss 0.002723\n",
      "PSNR: 30.385909589452954\n",
      "SSIM: 0.8734986374259244\n",
      "1/1 [==============================] - 5s 5s/step\n"
     ]
    },
    {
     "output_type": "stream",
     "name": "stderr",
     "text": [
      "WARNING:tensorflow:Compiled the loaded model, but the compiled metrics have yet to be built. `model.compile_metrics` will be empty until you train or evaluate the model.\n"
     ]
    },
    {
     "output_type": "stream",
     "name": "stdout",
     "text": [
      "Saving Model\n",
      "This is running epoch 147 and Loss 0.002697\n",
      "PSNR: 30.447375807048452\n",
      "SSIM: 0.872687883092026\n",
      "1/1 [==============================] - 5s 5s/step\n"
     ]
    },
    {
     "output_type": "stream",
     "name": "stderr",
     "text": [
      "WARNING:tensorflow:Compiled the loaded model, but the compiled metrics have yet to be built. `model.compile_metrics` will be empty until you train or evaluate the model.\n"
     ]
    },
    {
     "output_type": "stream",
     "name": "stdout",
     "text": [
      "Saving Model\n",
      "This is running epoch 148 and Loss 0.002658\n",
      "PSNR: 30.54097976133339\n",
      "SSIM: 0.8754136383267136\n",
      "1/1 [==============================] - 5s 5s/step\n"
     ]
    },
    {
     "output_type": "stream",
     "name": "stderr",
     "text": [
      "WARNING:tensorflow:Compiled the loaded model, but the compiled metrics have yet to be built. `model.compile_metrics` will be empty until you train or evaluate the model.\n"
     ]
    },
    {
     "output_type": "stream",
     "name": "stdout",
     "text": [
      "Saving Model\n",
      "This is running epoch 149 and Loss 0.002621\n",
      "PSNR: 30.588069570702785\n",
      "SSIM: 0.8764113105167464\n",
      "1/1 [==============================] - 5s 5s/step\n"
     ]
    },
    {
     "output_type": "stream",
     "name": "stderr",
     "text": [
      "WARNING:tensorflow:Compiled the loaded model, but the compiled metrics have yet to be built. `model.compile_metrics` will be empty until you train or evaluate the model.\n"
     ]
    },
    {
     "output_type": "stream",
     "name": "stdout",
     "text": [
      "Saving Model\n",
      "This is running epoch 150 and Loss 0.002612\n",
      "PSNR: 30.597651700007177\n",
      "SSIM: 0.8760581970962854\n",
      "1/1 [==============================] - 5s 5s/step\n",
      "This is running epoch 151 and Loss 0.002623\n",
      "PSNR: 30.597651700007177\n",
      "SSIM: 0.8786751664039048\n",
      "1/1 [==============================] - 5s 5s/step\n",
      "This is running epoch 152 and Loss 0.002641\n",
      "PSNR: 30.597651700007177\n",
      "SSIM: 0.8761422182885679\n",
      "1/1 [==============================] - 5s 5s/step\n",
      "This is running epoch 153 and Loss 0.002671\n",
      "PSNR: 30.597651700007177\n",
      "SSIM: 0.8800728759422941\n",
      "1/1 [==============================] - 5s 5s/step\n",
      "This is running epoch 154 and Loss 0.002691\n",
      "PSNR: 30.597651700007177\n",
      "SSIM: 0.8757810185501615\n",
      "1/1 [==============================] - 5s 5s/step\n",
      "This is running epoch 155 and Loss 0.002746\n",
      "PSNR: 30.597651700007177\n",
      "SSIM: 0.881126506842022\n",
      "1/1 [==============================] - 7s 7s/step\n",
      "This is running epoch 156 and Loss 0.002745\n",
      "PSNR: 30.597651700007177\n",
      "SSIM: 0.8768945959736094\n",
      "1/1 [==============================] - 5s 5s/step\n",
      "This is running epoch 157 and Loss 0.002753\n",
      "PSNR: 30.597651700007177\n",
      "SSIM: 0.8833162653068956\n",
      "1/1 [==============================] - 5s 5s/step\n"
     ]
    },
    {
     "output_type": "stream",
     "name": "stderr",
     "text": [
      "WARNING:tensorflow:Compiled the loaded model, but the compiled metrics have yet to be built. `model.compile_metrics` will be empty until you train or evaluate the model.\n"
     ]
    },
    {
     "output_type": "stream",
     "name": "stdout",
     "text": [
      "Saving Model\n",
      "This is running epoch 158 and Loss 0.002642\n",
      "PSNR: 30.87816609507925\n",
      "SSIM: 0.8834239960564598\n",
      "1/1 [==============================] - 5s 5s/step\n"
     ]
    },
    {
     "output_type": "stream",
     "name": "stderr",
     "text": [
      "WARNING:tensorflow:Compiled the loaded model, but the compiled metrics have yet to be built. `model.compile_metrics` will be empty until you train or evaluate the model.\n"
     ]
    },
    {
     "output_type": "stream",
     "name": "stdout",
     "text": [
      "Saving Model\n",
      "This is running epoch 159 and Loss 0.002559\n",
      "PSNR: 30.919887482892303\n",
      "SSIM: 0.8844807994330292\n",
      "1/1 [==============================] - 5s 5s/step\n",
      "This is running epoch 160 and Loss 0.002549\n",
      "PSNR: 30.919887482892303\n",
      "SSIM: 0.886267618144413\n",
      "1/1 [==============================] - 5s 5s/step\n",
      "This is running epoch 161 and Loss 0.002595\n",
      "PSNR: 30.919887482892303\n",
      "SSIM: 0.883688730208988\n",
      "1/1 [==============================] - 5s 5s/step\n",
      "This is running epoch 162 and Loss 0.002635\n",
      "PSNR: 30.919887482892303\n",
      "SSIM: 0.8878316600550865\n",
      "1/1 [==============================] - 5s 5s/step\n"
     ]
    },
    {
     "output_type": "stream",
     "name": "stderr",
     "text": [
      "WARNING:tensorflow:Compiled the loaded model, but the compiled metrics have yet to be built. `model.compile_metrics` will be empty until you train or evaluate the model.\n"
     ]
    },
    {
     "output_type": "stream",
     "name": "stdout",
     "text": [
      "Saving Model\n",
      "This is running epoch 163 and Loss 0.002591\n",
      "PSNR: 30.987884150561385\n",
      "SSIM: 0.8874887009102055\n",
      "1/1 [==============================] - 5s 5s/step\n"
     ]
    },
    {
     "output_type": "stream",
     "name": "stderr",
     "text": [
      "WARNING:tensorflow:Compiled the loaded model, but the compiled metrics have yet to be built. `model.compile_metrics` will be empty until you train or evaluate the model.\n"
     ]
    },
    {
     "output_type": "stream",
     "name": "stdout",
     "text": [
      "Saving Model\n",
      "This is running epoch 164 and Loss 0.002537\n",
      "PSNR: 31.098740688708737\n",
      "SSIM: 0.8893083199769519\n",
      "1/1 [==============================] - 5s 5s/step\n",
      "This is running epoch 165 and Loss 0.002504\n",
      "PSNR: 31.098740688708737\n",
      "SSIM: 0.890304483663304\n",
      "1/1 [==============================] - 5s 5s/step\n",
      "This is running epoch 166 and Loss 0.002515\n",
      "PSNR: 31.098740688708737\n",
      "SSIM: 0.8890752795213477\n",
      "1/1 [==============================] - 5s 5s/step\n",
      "This is running epoch 167 and Loss 0.002545\n",
      "PSNR: 31.098740688708737\n",
      "SSIM: 0.8916172482311013\n",
      "1/1 [==============================] - 5s 5s/step\n",
      "This is running epoch 168 and Loss 0.002551\n",
      "PSNR: 31.098740688708737\n",
      "SSIM: 0.8901768117104529\n",
      "1/1 [==============================] - 5s 5s/step\n",
      "This is running epoch 169 and Loss 0.002547\n",
      "PSNR: 31.098740688708737\n",
      "SSIM: 0.8932429444353434\n",
      "1/1 [==============================] - 5s 5s/step\n"
     ]
    },
    {
     "output_type": "stream",
     "name": "stderr",
     "text": [
      "WARNING:tensorflow:Compiled the loaded model, but the compiled metrics have yet to be built. `model.compile_metrics` will be empty until you train or evaluate the model.\n"
     ]
    },
    {
     "output_type": "stream",
     "name": "stdout",
     "text": [
      "Saving Model\n",
      "This is running epoch 170 and Loss 0.002515\n",
      "PSNR: 31.235052133244857\n",
      "SSIM: 0.892712230011215\n",
      "1/1 [==============================] - 5s 5s/step\n"
     ]
    },
    {
     "output_type": "stream",
     "name": "stderr",
     "text": [
      "WARNING:tensorflow:Compiled the loaded model, but the compiled metrics have yet to be built. `model.compile_metrics` will be empty until you train or evaluate the model.\n"
     ]
    },
    {
     "output_type": "stream",
     "name": "stdout",
     "text": [
      "Saving Model\n",
      "This is running epoch 171 and Loss 0.002487\n",
      "PSNR: 31.276981832687177\n",
      "SSIM: 0.8947519526549855\n",
      "1/1 [==============================] - 6s 6s/step\n"
     ]
    },
    {
     "output_type": "stream",
     "name": "stderr",
     "text": [
      "WARNING:tensorflow:Compiled the loaded model, but the compiled metrics have yet to be built. `model.compile_metrics` will be empty until you train or evaluate the model.\n"
     ]
    },
    {
     "output_type": "stream",
     "name": "stdout",
     "text": [
      "Saving Model\n",
      "This is running epoch 172 and Loss 0.002463\n",
      "PSNR: 31.379860727567777\n",
      "SSIM: 0.8952489392347154\n",
      "1/1 [==============================] - 5s 5s/step\n"
     ]
    },
    {
     "output_type": "stream",
     "name": "stderr",
     "text": [
      "WARNING:tensorflow:Compiled the loaded model, but the compiled metrics have yet to be built. `model.compile_metrics` will be empty until you train or evaluate the model.\n"
     ]
    },
    {
     "output_type": "stream",
     "name": "stdout",
     "text": [
      "Saving Model\n",
      "This is running epoch 173 and Loss 0.002450\n",
      "PSNR: 31.42212836624474\n",
      "SSIM: 0.8959731241328575\n",
      "1/1 [==============================] - 5s 5s/step\n",
      "This is running epoch 174 and Loss 0.002446\n",
      "PSNR: 31.42212836624474\n",
      "SSIM: 0.8972003601166483\n",
      "1/1 [==============================] - 5s 5s/step\n",
      "This is running epoch 175 and Loss 0.002450\n",
      "PSNR: 31.42212836624474\n",
      "SSIM: 0.8964473272633692\n",
      "1/1 [==============================] - 5s 5s/step\n",
      "This is running epoch 176 and Loss 0.002470\n",
      "PSNR: 31.42212836624474\n",
      "SSIM: 0.8978762818779825\n",
      "1/1 [==============================] - 5s 5s/step\n",
      "This is running epoch 177 and Loss 0.002526\n",
      "PSNR: 31.42212836624474\n",
      "SSIM: 0.8912789468826082\n",
      "1/1 [==============================] - 5s 5s/step\n",
      "This is running epoch 178 and Loss 0.002725\n",
      "PSNR: 31.42212836624474\n",
      "SSIM: 0.891721987097883\n",
      "1/1 [==============================] - 5s 5s/step\n",
      "This is running epoch 179 and Loss 0.003067\n",
      "PSNR: 31.42212836624474\n",
      "SSIM: 0.8637779603113226\n",
      "1/1 [==============================] - 5s 5s/step\n",
      "This is running epoch 180 and Loss 0.003826\n",
      "PSNR: 31.42212836624474\n",
      "SSIM: 0.8941789278157346\n",
      "1/1 [==============================] - 6s 6s/step\n",
      "This is running epoch 181 and Loss 0.002788\n",
      "PSNR: 31.42212836624474\n",
      "SSIM: 0.8951941062570649\n",
      "1/1 [==============================] - 5s 5s/step\n",
      "This is running epoch 182 and Loss 0.002586\n",
      "PSNR: 31.42212836624474\n",
      "SSIM: 0.8804605735840026\n",
      "1/1 [==============================] - 5s 5s/step\n",
      "This is running epoch 183 and Loss 0.003044\n",
      "PSNR: 31.42212836624474\n",
      "SSIM: 0.8965856230375998\n",
      "1/1 [==============================] - 5s 5s/step\n",
      "This is running epoch 184 and Loss 0.002503\n",
      "PSNR: 31.42212836624474\n",
      "SSIM: 0.8928388722686158\n",
      "1/1 [==============================] - 5s 5s/step\n",
      "This is running epoch 185 and Loss 0.002843\n",
      "PSNR: 31.42212836624474\n",
      "SSIM: 0.8860920356058651\n",
      "1/1 [==============================] - 5s 5s/step\n",
      "This is running epoch 186 and Loss 0.002830\n",
      "PSNR: 31.42212836624474\n",
      "SSIM: 0.8954883605765472\n",
      "1/1 [==============================] - 5s 5s/step\n",
      "This is running epoch 187 and Loss 0.002537\n",
      "PSNR: 31.42212836624474\n",
      "SSIM: 0.8911075194860663\n",
      "1/1 [==============================] - 5s 5s/step\n",
      "This is running epoch 188 and Loss 0.002939\n",
      "PSNR: 31.42212836624474\n",
      "SSIM: 0.8972431524238776\n",
      "1/1 [==============================] - 5s 5s/step\n",
      "This is running epoch 189 and Loss 0.002511\n",
      "PSNR: 31.42212836624474\n",
      "SSIM: 0.8921932491453073\n",
      "1/1 [==============================] - 7s 7s/step\n",
      "This is running epoch 190 and Loss 0.002683\n",
      "PSNR: 31.42212836624474\n",
      "SSIM: 0.8987249988131809\n",
      "1/1 [==============================] - 5s 5s/step\n",
      "This is running epoch 191 and Loss 0.002567\n",
      "PSNR: 31.42212836624474\n",
      "SSIM: 0.8989209685719716\n",
      "1/1 [==============================] - 5s 5s/step\n",
      "This is running epoch 192 and Loss 0.002534\n",
      "PSNR: 31.42212836624474\n",
      "SSIM: 0.8959070154222147\n",
      "1/1 [==============================] - 5s 5s/step\n",
      "This is running epoch 193 and Loss 0.002585\n",
      "PSNR: 31.42212836624474\n",
      "SSIM: 0.9010904322303976\n",
      "1/1 [==============================] - 5s 5s/step\n",
      "This is running epoch 194 and Loss 0.002440\n",
      "PSNR: 31.42212836624474\n",
      "SSIM: 0.8992501099574564\n",
      "1/1 [==============================] - 5s 5s/step\n"
     ]
    },
    {
     "output_type": "stream",
     "name": "stderr",
     "text": [
      "WARNING:tensorflow:Compiled the loaded model, but the compiled metrics have yet to be built. `model.compile_metrics` will be empty until you train or evaluate the model.\n"
     ]
    },
    {
     "output_type": "stream",
     "name": "stdout",
     "text": [
      "Saving Model\n",
      "This is running epoch 195 and Loss 0.002599\n",
      "PSNR: 31.698422832330955\n",
      "SSIM: 0.9035515511054901\n",
      "1/1 [==============================] - 5s 5s/step\n",
      "This is running epoch 196 and Loss 0.002392\n",
      "PSNR: 31.698422832330955\n",
      "SSIM: 0.8993579811026836\n",
      "1/1 [==============================] - 5s 5s/step\n",
      "This is running epoch 197 and Loss 0.002523\n",
      "PSNR: 31.698422832330955\n",
      "SSIM: 0.9048319217876946\n",
      "1/1 [==============================] - 5s 5s/step\n",
      "This is running epoch 198 and Loss 0.002397\n",
      "PSNR: 31.698422832330955\n",
      "SSIM: 0.9040979733348861\n"
     ]
    }
   ]
  },
  {
   "cell_type": "code",
   "source": [
    "PUbestmodel, out_best = load_model_and_predict(filepath, img_striped)"
   ],
   "metadata": {
    "colab": {
     "base_uri": "https://localhost:8080/"
    },
    "id": "vSGjdutA7X08",
    "executionInfo": {
     "status": "ok",
     "timestamp": 1665892495828,
     "user_tz": 240,
     "elapsed": 4830,
     "user": {
      "displayName": "Punyaphat Sukcharoenchaikul",
      "userId": "05777821768464563273"
     }
    },
    "outputId": "ae7ae243-14a2-4fa4-a42d-2565582e16d6"
   },
   "execution_count": 15,
   "outputs": [
    {
     "output_type": "stream",
     "name": "stderr",
     "text": [
      "WARNING:tensorflow:No training configuration found in the save file, so the model was *not* compiled. Compile it manually.\n"
     ]
    },
    {
     "output_type": "stream",
     "name": "stdout",
     "text": [
      "1/1 [==============================] - 4s 4s/step\n"
     ]
    }
   ]
  },
  {
   "cell_type": "code",
   "source": [
    "# show the images (clean, noisy, output from the trained model)\n",
    "band = 4\n",
    "plt.subplot(131)\n",
    "plt.imshow(np.clip(img_clean_np[:, :, band], 0, 1))\n",
    "plt.subplot(132)\n",
    "plt.imshow(np.clip(img_striped_np[:, :, band], 0, 1))\n",
    "plt.subplot(133)\n",
    "plt.imshow(np.clip(out_best[0][:, :, band], 0, 1))\n",
    "plt.show()\n",
    "print(\"Original PSNR: \" + str(psnr(img_clean[0], img_striped[0])))\n",
    "print(\"Destriped PSNR: \" + str(psnr(img_clean[0], out_best[0])))"
   ],
   "metadata": {
    "id": "AvQmMjRJQHUC",
    "colab": {
     "base_uri": "https://localhost:8080/",
     "height": 356
    },
    "executionInfo": {
     "status": "ok",
     "timestamp": 1665892955298,
     "user_tz": 240,
     "elapsed": 1335,
     "user": {
      "displayName": "Punyaphat Sukcharoenchaikul",
      "userId": "05777821768464563273"
     }
    },
    "outputId": "d7197257-f1cb-4f55-9c81-a0f8a36dec42"
   },
   "execution_count": 22,
   "outputs": [
    {
     "output_type": "display_data",
     "data": {
      "text/plain": [
       "<Figure size 432x288 with 3 Axes>"
      ],
      "image/png": "[encoded data removed]"
     },
     "metadata": {
      "needs_background": "light"
     }
    },
    {
     "output_type": "stream",
     "name": "stdout",
     "text": [
      "Original PSNR: 27.32066085517581\n",
      "Destriped PSNR: 34.2926271723408\n"
     ]
    },
    {
     "output_type": "stream",
     "name": "stderr",
     "text": [
      "/usr/local/lib/python3.7/dist-packages/ipykernel_launcher.py:10: UserWarning: Inputs have mismatched dtype.  Setting data_range based on im_true.\n",
      "  # Remove the CWD from sys.path while we load stuff.\n",
      "/usr/local/lib/python3.7/dist-packages/ipykernel_launcher.py:11: UserWarning: Inputs have mismatched dtype.  Setting data_range based on im_true.\n",
      "  # This is added back by InteractiveShellApp.init_path()\n"
     ]
    }
   ]
  }
 ]
}