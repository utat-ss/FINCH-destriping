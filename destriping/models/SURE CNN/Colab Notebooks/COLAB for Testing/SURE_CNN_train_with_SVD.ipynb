{
 "nbformat": 4,
 "nbformat_minor": 0,
 "metadata": {
  "colab": {
   "provenance": [],
   "collapsed_sections": []
  },
  "kernelspec": {
   "name": "python3",
   "display_name": "Python 3"
  },
  "language_info": {
   "name": "python"
  }
 },
 "cells": [
  {
   "cell_type": "code",
   "execution_count": 3,
   "metadata": {
    "colab": {
     "base_uri": "https://localhost:8080/"
    },
    "id": "OaCTY3_L2iy-",
    "executionInfo": {
     "status": "ok",
     "timestamp": 1665801274492,
     "user_tz": 240,
     "elapsed": 34046,
     "user": {
      "displayName": "Punyaphat Sukcharoenchaikul",
      "userId": "05777821768464563273"
     }
    },
    "outputId": "792649a0-2d55-4ee5-d613-b59937f0b02d"
   },
   "outputs": [
    {
     "output_type": "stream",
     "name": "stdout",
     "text": [
      "Looking in indexes: https://pypi.org/simple, https://us-python.pkg.dev/colab-wheels/public/simple/\n",
      "Collecting import_ipynb\n",
      "  Downloading import_ipynb-0.1.4-py3-none-any.whl (4.1 kB)\n",
      "Requirement already satisfied: IPython in /usr/local/lib/python3.7/dist-packages (from import_ipynb) (7.9.0)\n",
      "Requirement already satisfied: nbformat in /usr/local/lib/python3.7/dist-packages (from import_ipynb) (5.7.0)\n",
      "Requirement already satisfied: pickleshare in /usr/local/lib/python3.7/dist-packages (from IPython->import_ipynb) (0.7.5)\n",
      "Requirement already satisfied: traitlets>=4.2 in /usr/local/lib/python3.7/dist-packages (from IPython->import_ipynb) (5.1.1)\n",
      "Collecting jedi>=0.10\n",
      "  Downloading jedi-0.18.1-py2.py3-none-any.whl (1.6 MB)\n",
      "\u001b[K     |████████████████████████████████| 1.6 MB 5.0 MB/s \n",
      "\u001b[?25hRequirement already satisfied: backcall in /usr/local/lib/python3.7/dist-packages (from IPython->import_ipynb) (0.2.0)\n",
      "Requirement already satisfied: pexpect in /usr/local/lib/python3.7/dist-packages (from IPython->import_ipynb) (4.8.0)\n",
      "Requirement already satisfied: pygments in /usr/local/lib/python3.7/dist-packages (from IPython->import_ipynb) (2.6.1)\n",
      "Requirement already satisfied: setuptools>=18.5 in /usr/local/lib/python3.7/dist-packages (from IPython->import_ipynb) (57.4.0)\n",
      "Requirement already satisfied: prompt-toolkit<2.1.0,>=2.0.0 in /usr/local/lib/python3.7/dist-packages (from IPython->import_ipynb) (2.0.10)\n",
      "Requirement already satisfied: decorator in /usr/local/lib/python3.7/dist-packages (from IPython->import_ipynb) (4.4.2)\n",
      "Requirement already satisfied: parso<0.9.0,>=0.8.0 in /usr/local/lib/python3.7/dist-packages (from jedi>=0.10->IPython->import_ipynb) (0.8.3)\n",
      "Requirement already satisfied: wcwidth in /usr/local/lib/python3.7/dist-packages (from prompt-toolkit<2.1.0,>=2.0.0->IPython->import_ipynb) (0.2.5)\n",
      "Requirement already satisfied: six>=1.9.0 in /usr/local/lib/python3.7/dist-packages (from prompt-toolkit<2.1.0,>=2.0.0->IPython->import_ipynb) (1.15.0)\n",
      "Requirement already satisfied: importlib-metadata>=3.6 in /usr/local/lib/python3.7/dist-packages (from nbformat->import_ipynb) (5.0.0)\n",
      "Requirement already satisfied: jupyter-core in /usr/local/lib/python3.7/dist-packages (from nbformat->import_ipynb) (4.11.1)\n",
      "Requirement already satisfied: jsonschema>=2.6 in /usr/local/lib/python3.7/dist-packages (from nbformat->import_ipynb) (4.3.3)\n",
      "Requirement already satisfied: fastjsonschema in /usr/local/lib/python3.7/dist-packages (from nbformat->import_ipynb) (2.16.2)\n",
      "Requirement already satisfied: typing-extensions>=3.6.4 in /usr/local/lib/python3.7/dist-packages (from importlib-metadata>=3.6->nbformat->import_ipynb) (4.1.1)\n",
      "Requirement already satisfied: zipp>=0.5 in /usr/local/lib/python3.7/dist-packages (from importlib-metadata>=3.6->nbformat->import_ipynb) (3.9.0)\n",
      "Requirement already satisfied: attrs>=17.4.0 in /usr/local/lib/python3.7/dist-packages (from jsonschema>=2.6->nbformat->import_ipynb) (22.1.0)\n",
      "Requirement already satisfied: pyrsistent!=0.17.0,!=0.17.1,!=0.17.2,>=0.14.0 in /usr/local/lib/python3.7/dist-packages (from jsonschema>=2.6->nbformat->import_ipynb) (0.18.1)\n",
      "Requirement already satisfied: importlib-resources>=1.4.0 in /usr/local/lib/python3.7/dist-packages (from jsonschema>=2.6->nbformat->import_ipynb) (5.10.0)\n",
      "Requirement already satisfied: ptyprocess>=0.5 in /usr/local/lib/python3.7/dist-packages (from pexpect->IPython->import_ipynb) (0.7.0)\n",
      "Installing collected packages: jedi, import-ipynb\n",
      "Successfully installed import-ipynb-0.1.4 jedi-0.18.1\n",
      "Mounted at /content/drive\n",
      "/content/drive/Shareddrives/Space Systems Division/Teams/FINCH/Payload System/Science/Projects/SC-4: Data Processing/Destriping/Noise Functions\n",
      "importing Jupyter notebook from apply_stripes.ipynb\n",
      "/content/drive/Shareddrives/Space Systems Division/Teams/FINCH/Payload System/Science/Projects/SC-4: Data Processing/Destriping/Destriping Models\n",
      "importing Jupyter notebook from noise_estimation.ipynb\n",
      "Drive already mounted at /content/drive/; to attempt to forcibly remount, call drive.mount(\"/content/drive/\", force_remount=True).\n",
      "/content/drive/Shareddrives/Space Systems Division/Teams/FINCH/Payload System/Science/Projects/SC-4: Data Processing/Destriping/Destriping Models/SURE CNN/Colab Notebooks/HSI_Denoising_SURE_CNN-master\n"
     ]
    }
   ],
   "source": [
    "# Imports not from the google drive\n",
    "# stdlib\n",
    "import copy\n",
    "import math\n",
    "import os\n",
    "import random\n",
    "import sys\n",
    "\n",
    "# external\n",
    "import matplotlib.pyplot as plt\n",
    "import numpy as np\n",
    "import scipy.io as sio\n",
    "import tensorflow as tf\n",
    "from PIL import Image\n",
    "from skimage.metrics import peak_signal_noise_ratio as psnr\n",
    "from skimage.metrics import structural_similarity as ssim\n",
    "\n",
    "os.environ[\"CUDA_VISIBLE_DEVICES\"] = \"0\"\n",
    "\n",
    "!pip install import_ipynb\n",
    "# external\n",
    "import import_ipynb\n",
    "\n",
    "# Imports from the google drive\n",
    "from google.colab import drive\n",
    "\n",
    "drive.mount(\"/content/drive\")\n",
    "\n",
    "%cd /content/drive/Shareddrives/Space Systems Division/Teams/FINCH/Payload System/Science/Projects/SC-4: Data Processing/Destriping/Noise Functions\n",
    "file_dir = \"/content/drive/Shared drives/Space Systems Divison/FINCH Mission/Payload System/Science/Projects/SC-4: Data Processing/Destriping/Noise Functions\"\n",
    "sys.path.append(os.path.abspath(file_dir))\n",
    "# external\n",
    "import apply_stripes\n",
    "\n",
    "%cd /content/drive/Shareddrives/Space Systems Division/Teams/FINCH/Payload System/Science/Projects/SC-4: Data Processing/Destriping/Destriping Models\n",
    "file_dir = \"/content/drive/Shared drives/Space Systems Divison/FINCH Mission/Payload System/Science/Projects/SC-4: Data Processing/Destriping/Destriping Models\"\n",
    "sys.path.append(os.path.abspath(file_dir))\n",
    "# external\n",
    "import noise_estimation\n",
    "\n",
    "%cd /content/drive/Shareddrives/Space Systems Division/Teams/FINCH/Payload System/Science/Projects/SC-4: Data Processing/Destriping/Destriping Models/SURE CNN/Colab Notebooks/HSI_Denoising_SURE_CNN-master\n",
    "file_dir = \"/content/drive/Shared drives/Space Systems Divison/FINCH Mission/Payload System/Science/Projects/SC-4: Data Processing/Destriping/Destriping Models/SURE CNN/Colab Notebooks/HSI_Denoising_SURE_CNN-master\"\n",
    "sys.path.append(os.path.abspath(file_dir))\n",
    "# external\n",
    "from models.skipnet import *\n",
    "from utils.common import *"
   ]
  },
  {
   "cell_type": "code",
   "source": [
    "def import_indian_pines_data(to_import=True):\n",
    "    \"\"\"\n",
    "    import Indian Pines dataset from Science Google Drive\n",
    "    Args:\n",
    "      import: if True import the dataset from Googel Drive, if false doesn't import\n",
    "      To change the location of import to github\n",
    "\n",
    "    Return: print statement of whether the dataset is imported properly or not\n",
    "    \"\"\"\n",
    "    if to_import == True:\n",
    "        # data get data to add stripe\n",
    "        #!git clone https://github.com/spacesys-finch/Science #if says error uncomment this line\n",
    "        # error cloning, so uploaded the data to google drive instead\n",
    "        data = np.load(\n",
    "            \"/content/drive/Shareddrives/Space Systems Division/Teams/FINCH/Payload System/Science/Projects/SC-4: Data Processing/Destriping/Datasets/indian_pine_array.npy\"\n",
    "        )\n",
    "\n",
    "        # changing from callibrated value to radiance\n",
    "        # radiance_data_np = (data-1000)/500\n",
    "        radiance_data_np = data.astype(np.float32)\n",
    "        return radiance_data_np"
   ],
   "metadata": {
    "id": "gk7vF7xh2rda",
    "executionInfo": {
     "status": "ok",
     "timestamp": 1665801274493,
     "user_tz": 240,
     "elapsed": 9,
     "user": {
      "displayName": "Punyaphat Sukcharoenchaikul",
      "userId": "05777821768464563273"
     }
    }
   },
   "execution_count": 4,
   "outputs": []
  },
  {
   "cell_type": "code",
   "source": [
    "# write a function for nomalizing the values in the numpy array\n",
    "\n",
    "\n",
    "def normalize(numpy_arr_one, numpy_arr_two):\n",
    "    \"\"\"\n",
    "    Normalize the values in numpy_arr_one and numpy_arr_two into values between -1 and 1\n",
    "    Args:\n",
    "      numpy_arr_one, numpy_arr_two: numpy arrays of the data to normalize\n",
    "    Return: numpy_arr_one_norm, numpy_arr_two_norm: two arrays that are normalized\n",
    "    \"\"\"\n",
    "\n",
    "    max_num = max(np.max(numpy_arr_one), np.max(numpy_arr_two))\n",
    "    divisor = np.ones(numpy_arr_one.shape) * max_num\n",
    "    numpy_arr_one_norm = np.divide(numpy_arr_one, divisor)\n",
    "    numpy_arr_two_norm = np.divide(numpy_arr_two, divisor)\n",
    "    return numpy_arr_one_norm, numpy_arr_two_norm, max_num"
   ],
   "metadata": {
    "id": "NWIJQ9bi28Bh",
    "executionInfo": {
     "status": "ok",
     "timestamp": 1665801274493,
     "user_tz": 240,
     "elapsed": 7,
     "user": {
      "displayName": "Punyaphat Sukcharoenchaikul",
      "userId": "05777821768464563273"
     }
    }
   },
   "execution_count": 5,
   "outputs": []
  },
  {
   "cell_type": "code",
   "source": [
    "def band_by_band_normalize(numpy_array):\n",
    "    \"\"\"\n",
    "    Normalize the values in numpy_array band by band to between 0 and 1\n",
    "    Args:\n",
    "      numpy_array: 3D array of hyperspectral image\n",
    "    Return:\n",
    "      numpy_array_norm: normalized numpy array\n",
    "    \"\"\"\n",
    "    bands = numpy_array.shape[2]\n",
    "    for i in range(bands):\n",
    "        max_num = np.max(numpy_array[:, :, i])\n",
    "        numpy_array[:, :, i] = np.divide(numpy_array[:, :, i], max_num)\n",
    "    return numpy_array"
   ],
   "metadata": {
    "id": "sZzr8DKPWYvf",
    "executionInfo": {
     "status": "ok",
     "timestamp": 1665801274494,
     "user_tz": 240,
     "elapsed": 7,
     "user": {
      "displayName": "Punyaphat Sukcharoenchaikul",
      "userId": "05777821768464563273"
     }
    }
   },
   "execution_count": 6,
   "outputs": []
  },
  {
   "cell_type": "code",
   "source": [
    "# reshape data to (1, data.shape[0], data.shape[1], data.shape[2])\n",
    "def reshape(data):\n",
    "    \"\"\"\n",
    "    Input: 3D Numpy array, Output: Reshaped 4D Numpy array\n",
    "    Reshape HSI data from 3D to 4D to pass into CNN\n",
    "    Ex. original data shape (20, 30, 40) will turn into (1, 20, 30, 40)\n",
    "    \"\"\"\n",
    "    data_reshaped = data.reshape(1, data.shape[0], data.shape[1], data.shape[2])\n",
    "    return data_reshaped"
   ],
   "metadata": {
    "id": "5uQJ58aA2_DZ",
    "executionInfo": {
     "status": "ok",
     "timestamp": 1665801274494,
     "user_tz": 240,
     "elapsed": 7,
     "user": {
      "displayName": "Punyaphat Sukcharoenchaikul",
      "userId": "05777821768464563273"
     }
    }
   },
   "execution_count": 7,
   "outputs": []
  },
  {
   "cell_type": "code",
   "source": [
    "def define_model(striped_data):\n",
    "    \"\"\"\n",
    "    Define the models and the necessary parameters of the model\n",
    "\n",
    "    Args: None\n",
    "    Return:\n",
    "      mymodel: model of the defined properties\n",
    "      lr: alpha value\n",
    "      myoptimizer: optimizer of choice\n",
    "      loss_object: type of loss object\n",
    "    \"\"\"\n",
    "    # Define model\n",
    "    mymodel = skip(ndown=5, channel=striped_data.shape[-1])\n",
    "    lr = 0.001\n",
    "    myoptimizer = tf.keras.optimizers.Adam(lr)\n",
    "    loss_object = tf.keras.losses.MeanSquaredError()\n",
    "    return mymodel, lr, myoptimizer, loss_object"
   ],
   "metadata": {
    "id": "nagfb6vj3BGY",
    "executionInfo": {
     "status": "ok",
     "timestamp": 1665801274638,
     "user_tz": 240,
     "elapsed": 151,
     "user": {
      "displayName": "Punyaphat Sukcharoenchaikul",
      "userId": "05777821768464563273"
     }
    }
   },
   "execution_count": 8,
   "outputs": []
  },
  {
   "cell_type": "code",
   "source": [
    "# Calculate gradient\n",
    "@tf.function\n",
    "def grad(model, inputs, targets):\n",
    "    sure = True\n",
    "    with tf.GradientTape() as tape:\n",
    "        loss_value, div_value = losshyper(\n",
    "            model, inputs, targets, sigma=sigmaest, sure=sure\n",
    "        )\n",
    "    return loss_value, div_value, tape.gradient(loss_value, model.trainable_variables)"
   ],
   "metadata": {
    "id": "6h038S3t3EMZ",
    "executionInfo": {
     "status": "ok",
     "timestamp": 1665801274639,
     "user_tz": 240,
     "elapsed": 3,
     "user": {
      "displayName": "Punyaphat Sukcharoenchaikul",
      "userId": "05777821768464563273"
     }
    }
   },
   "execution_count": 9,
   "outputs": []
  },
  {
   "cell_type": "code",
   "source": [
    "# function for calculating mean ssim (Structural Similarity Index)\n",
    "def meanssim(X, Y):\n",
    "    \"\"\"\n",
    "    Calculate the mean SSIM of the two images X and Y\n",
    "\n",
    "    Args:\n",
    "    x: first image to compare\n",
    "    y: second image to compare with\n",
    "\n",
    "    return\n",
    "    np.mean(bandssim): mean similarity of the two images x and y\n",
    "    \"\"\"\n",
    "    bandssim = []\n",
    "    for i in range(X.shape[2]):\n",
    "        bandssim.append(\n",
    "            ssim(\n",
    "                X[:, :, i],\n",
    "                Y[:, :, i],\n",
    "                data_range=1.0,\n",
    "                K1=0.01,\n",
    "                K2=0.03,\n",
    "                gaussian_weights=True,\n",
    "                sigma=1.5,\n",
    "                use_sample_covariance=False,\n",
    "            )\n",
    "        )\n",
    "    return np.mean(bandssim)"
   ],
   "metadata": {
    "id": "EZXCe9X93GRh",
    "executionInfo": {
     "status": "ok",
     "timestamp": 1665801274639,
     "user_tz": 240,
     "elapsed": 3,
     "user": {
      "displayName": "Punyaphat Sukcharoenchaikul",
      "userId": "05777821768464563273"
     }
    }
   },
   "execution_count": 10,
   "outputs": []
  },
  {
   "cell_type": "code",
   "source": [
    "def train_model(train, model_file_path, striped_data, clean_data, num_epochs):\n",
    "    \"\"\"\n",
    "    This function train the model and save the model\n",
    "\n",
    "    Args:\n",
    "      train: if true, train, if false not train\n",
    "      model_file_path: filepath that the model is saved at\n",
    "      striped_data: striped_data as numpy array with the shape (1, data.shape[0], data.shape[1], data.shape[2])\n",
    "      clean_data: clean data as numpy array with the shape (1, data.shape[0], data.shape[1], data.shape[2])\n",
    "\n",
    "    Return:\n",
    "      train_loss_results: list of the training loss\n",
    "      destriped_psnr: list of the psnr between the\n",
    "\n",
    "    \"\"\"\n",
    "    if train == True:\n",
    "        mymodel, lr, myoptimizer, loss_object = define_model(striped_data)\n",
    "        sure = True\n",
    "        # start training\n",
    "        train_loss_results = []\n",
    "        train_div_results = []\n",
    "        destriped_psnr = []\n",
    "        destriped_ssim = []\n",
    "        curr_psnr = 0\n",
    "        sure = True\n",
    "        # for loop for going through each epoch\n",
    "        for epoch in range(num_epochs):\n",
    "            loss_label = \"SURE\"\n",
    "            # get gradient for the current model\n",
    "            loss_value, div_value, grads = grad(mymodel, striped_data, striped_data)\n",
    "            # apply gradient to the optimizer\n",
    "            myoptimizer.apply_gradients(zip(grads, mymodel.trainable_variables))\n",
    "            img_out = mymodel.predict(striped_data)\n",
    "            # if the pnsr between the clean image and the output from the model is higher than the previous output, save the current model\n",
    "            if psnr(clean_data[0], img_out[0]) > curr_psnr:\n",
    "                print(\"Saving Model\")\n",
    "                tf.keras.models.save_model(mymodel, model_file_path)\n",
    "                curr_psnr = psnr(clean_data[0], img_out[0])\n",
    "            curr_ssim = meanssim(clean_data[0], img_out[0])\n",
    "\n",
    "            print(\"This is running epoch %d and Loss %f\" % (epoch, loss_value))\n",
    "            print(\"PSNR: \" + str(curr_psnr))\n",
    "            print(\"SSIM: \" + str(curr_ssim))\n",
    "            print(\n",
    "                \"Iteration %05d    Loss %f     PSNR %f    SSIM: \"\n",
    "                % (epoch, loss_value, curr_psnr),\n",
    "                \"\\r\",\n",
    "                end=\"\",\n",
    "            )\n",
    "            # updating loss, div, ssim\n",
    "            train_loss_results.append(loss_value)\n",
    "            train_div_results.append(div_value)\n",
    "            destriped_psnr.append(curr_psnr)\n",
    "            destriped_ssim.append(curr_ssim)\n",
    "\n",
    "        return train_loss_results, destriped_psnr, destriped_ssim\n",
    "\n",
    "    else:\n",
    "        print(\"Does not train\")\n",
    "        return [0], [0]"
   ],
   "metadata": {
    "id": "HN3NiVDs3I2w",
    "executionInfo": {
     "status": "ok",
     "timestamp": 1665806080103,
     "user_tz": 240,
     "elapsed": 123,
     "user": {
      "displayName": "Punyaphat Sukcharoenchaikul",
      "userId": "05777821768464563273"
     }
    }
   },
   "execution_count": 44,
   "outputs": []
  },
  {
   "cell_type": "code",
   "source": [
    "def load_model_and_predict(filepath, striped_data):\n",
    "    \"\"\"\n",
    "    This function load the saved model from the filepath and apply the model to striped_data to get the output\n",
    "\n",
    "    Args:\n",
    "      filepath: filepath that the model is saved in, the model should be of type .hdf5\n",
    "      striped_data: striped_data in the format of numpy array with the shape (1, data.shape[0], data.shape[1], data.shape[2])\n",
    "\n",
    "    Return:\n",
    "      bestmodel: the model that is loaded from the filepath\n",
    "      out_best: the output from passing striped_data into the loaded model\n",
    "    \"\"\"\n",
    "    # set the model to load the trained model\n",
    "    bestmodel = tf.keras.models.load_model(filepath)\n",
    "    # pass the noisy image into the model to get the output from the trained model\n",
    "    out_best = bestmodel.predict(striped_data)\n",
    "    return bestmodel, out_best"
   ],
   "metadata": {
    "id": "ksJBu-o_3L33",
    "executionInfo": {
     "status": "ok",
     "timestamp": 1665801274639,
     "user_tz": 240,
     "elapsed": 3,
     "user": {
      "displayName": "Punyaphat Sukcharoenchaikul",
      "userId": "05777821768464563273"
     }
    }
   },
   "execution_count": 12,
   "outputs": []
  },
  {
   "cell_type": "code",
   "source": [],
   "metadata": {
    "id": "-vUy83AebXVS",
    "executionInfo": {
     "status": "ok",
     "timestamp": 1665801274639,
     "user_tz": 240,
     "elapsed": 3,
     "user": {
      "displayName": "Punyaphat Sukcharoenchaikul",
      "userId": "05777821768464563273"
     }
    }
   },
   "execution_count": 12,
   "outputs": []
  },
  {
   "cell_type": "code",
   "source": [
    "# load data and add stripe/noise\n",
    "ip_radiance_data_np = import_indian_pines_data()\n",
    "ip_striped_data_np = ip_radiance_data_np\n",
    "ip_radiance_data_np = band_by_band_normalize(ip_radiance_data_np)\n",
    "ip_striped_data_np = band_by_band_normalize(ip_radiance_data_np)\n",
    "num_stripes = []\n",
    "\n",
    "num_bands = 200  # number of bands in the HSI\n",
    "\n",
    "# add stripes, change to other type of noise\n",
    "ip_striped_data_np = apply_stripes.add_basic_stripes(ip_radiance_data_np)\n",
    "\n",
    "# plot the striped images\n",
    "band = 12\n",
    "plt.subplot(121)\n",
    "plt.imshow(np.clip(ip_radiance_data_np[:, :, band], 0, 1))\n",
    "plt.subplot(122)\n",
    "plt.imshow(np.clip(ip_striped_data_np[:, :, band], 0, 1))\n",
    "plt.show()\n",
    "\n",
    "# reshape radiance data and striped data\n",
    "ip_radiance_data = reshape(ip_radiance_data_np)\n",
    "ip_radiance_data = ip_radiance_data.astype(np.float32)\n",
    "ip_striped_data = reshape(ip_striped_data_np)\n",
    "ip_striped_data = ip_striped_data.astype(np.float32)\n",
    "\n",
    "# calculate noise estimation\n",
    "sigmaest = noise_estimation.noise_estimate(ip_radiance_data_np)\n",
    "sigmaest = sigmaest.astype(np.float32)"
   ],
   "metadata": {
    "id": "VmostZ033RGn",
    "colab": {
     "base_uri": "https://localhost:8080/",
     "height": 221
    },
    "executionInfo": {
     "status": "ok",
     "timestamp": 1665801289359,
     "user_tz": 240,
     "elapsed": 14722,
     "user": {
      "displayName": "Punyaphat Sukcharoenchaikul",
      "userId": "05777821768464563273"
     }
    },
    "outputId": "110b7a60-0dbf-4488-ed45-72f013f49795"
   },
   "execution_count": 13,
   "outputs": [
    {
     "output_type": "display_data",
     "data": {
      "text/plain": [
       "<Figure size 432x288 with 2 Axes>"
      ],
      "image/png": "[encoded data removed]"
     },
     "metadata": {
      "needs_background": "light"
     }
    },
    {
     "output_type": "stream",
     "name": "stdout",
     "text": [
      "(200, 21025)   21025\n"
     ]
    }
   ]
  },
  {
   "cell_type": "code",
   "source": [
    "# perform SVD\n",
    "u, s, vh = np.linalg.svd(ip_striped_data, full_matrices=False)\n",
    "print(ip_striped_data.shape)\n",
    "print(u.shape, s.shape, vh.shape)\n",
    "print(((u * s[..., None, :]) @ vh).shape)\n",
    "print((u * s[..., None, :]).shape)\n",
    "ip_striped_data = u * s[..., None, :]\n",
    "# ip_striped_data = (u @ (s[..., None] * vh))\n",
    "\n",
    "# clean image\n",
    "u_clean, s_clean, vh_clean = np.linalg.svd(ip_radiance_data, full_matrices=False)\n",
    "ip_radiance_data = u_clean * s[..., None, :]"
   ],
   "metadata": {
    "colab": {
     "base_uri": "https://localhost:8080/"
    },
    "id": "XnxeHxHBb8C8",
    "executionInfo": {
     "status": "ok",
     "timestamp": 1665807437720,
     "user_tz": 240,
     "elapsed": 2816,
     "user": {
      "displayName": "Punyaphat Sukcharoenchaikul",
      "userId": "05777821768464563273"
     }
    },
    "outputId": "f89728cd-be65-491f-f492-db82dca69bfd"
   },
   "execution_count": 50,
   "outputs": [
    {
     "output_type": "stream",
     "name": "stdout",
     "text": [
      "(1, 145, 145, 145)\n",
      "(1, 145, 145, 145) (1, 145, 145) (1, 145, 145, 145)\n",
      "(1, 145, 145, 145)\n",
      "(1, 145, 145, 145)\n"
     ]
    }
   ]
  },
  {
   "cell_type": "code",
   "source": [
    "# change filename of the model saved\n",
    "filepath = \"./results/best model/Demo/\" + \"sure\" + \"indian_pine_SVD_US\" + \".hdf5\""
   ],
   "metadata": {
    "id": "VTKEdbqOP5Dw",
    "executionInfo": {
     "status": "ok",
     "timestamp": 1665807449072,
     "user_tz": 240,
     "elapsed": 110,
     "user": {
      "displayName": "Punyaphat Sukcharoenchaikul",
      "userId": "05777821768464563273"
     }
    }
   },
   "execution_count": 51,
   "outputs": []
  },
  {
   "cell_type": "code",
   "source": [
    "to_train = True\n",
    "sure = True\n",
    "num_epochs = 50\n",
    "train_loss_results, destriped_psnr, destriped_ssim = train_model(\n",
    "    to_train, filepath, ip_striped_data, ip_radiance_data, num_epochs\n",
    ")\n",
    "PUbestmodel, out_best = load_model_and_predict(filepath, ip_striped_data)\n",
    "\n",
    "# show the output image\n",
    "fig1, (ax, ax1, ax2) = plt.subplots(3, sharex=False, figsize=(6, 12))\n",
    "ax.imshow(np.clip(out_best[0][:, :, band], 0, 1))\n",
    "ax.set_title(\"Denoised  image, max PSNR=\" + str(np.round(np.max(destriped_psnr), 2)))\n",
    "ax.axis(\"off\")\n",
    "# plot train loss and divergence\n",
    "ax1.plot(range(len(train_loss_results)), train_loss_results, label=\"train loss\")\n",
    "ax1.set_title(\"Training loss using SURE\")\n",
    "ax1.legend()\n",
    "ax1.grid()\n",
    "\n",
    "# plot PSNR\n",
    "ax2.plot(destriped_psnr, label=\"destriped PSNR\")\n",
    "ax2.set_xlabel(\"Iterations\")\n",
    "ax2.set_title(\"PSNR using SURE\")\n",
    "ax2.legend()\n",
    "ax2.grid()"
   ],
   "metadata": {
    "id": "VRQ6CPl7QHaN",
    "colab": {
     "base_uri": "https://localhost:8080/",
     "height": 1000
    },
    "executionInfo": {
     "status": "ok",
     "timestamp": 1665808105045,
     "user_tz": 240,
     "elapsed": 654266,
     "user": {
      "displayName": "Punyaphat Sukcharoenchaikul",
      "userId": "05777821768464563273"
     }
    },
    "outputId": "2a2d8536-e8f9-4710-df13-d9797fa2cf52"
   },
   "execution_count": 52,
   "outputs": [
    {
     "output_type": "stream",
     "name": "stdout",
     "text": [
      "1/1 [==============================] - 2s 2s/step\n"
     ]
    },
    {
     "output_type": "stream",
     "name": "stderr",
     "text": [
      "WARNING:tensorflow:Compiled the loaded model, but the compiled metrics have yet to be built. `model.compile_metrics` will be empty until you train or evaluate the model.\n"
     ]
    },
    {
     "output_type": "stream",
     "name": "stdout",
     "text": [
      "Saving Model\n",
      "This is running epoch 0 and Loss 0.257479\n",
      "PSNR: 11.977643741849482\n",
      "SSIM: -0.002104907046687841\n",
      "1/1 [==============================] - 1s 1s/step\n"
     ]
    },
    {
     "output_type": "stream",
     "name": "stderr",
     "text": [
      "WARNING:tensorflow:Compiled the loaded model, but the compiled metrics have yet to be built. `model.compile_metrics` will be empty until you train or evaluate the model.\n"
     ]
    },
    {
     "output_type": "stream",
     "name": "stdout",
     "text": [
      "Saving Model\n",
      "This is running epoch 1 and Loss 0.253051\n",
      "PSNR: 12.289453471036358\n",
      "SSIM: -0.0020100897631950897\n",
      "1/1 [==============================] - 1s 1s/step\n"
     ]
    },
    {
     "output_type": "stream",
     "name": "stderr",
     "text": [
      "WARNING:tensorflow:Compiled the loaded model, but the compiled metrics have yet to be built. `model.compile_metrics` will be empty until you train or evaluate the model.\n"
     ]
    },
    {
     "output_type": "stream",
     "name": "stdout",
     "text": [
      "Saving Model\n",
      "This is running epoch 2 and Loss 0.235455\n",
      "PSNR: 14.118614838331517\n",
      "SSIM: -0.0007888398892740539\n",
      "1/1 [==============================] - 1s 1s/step\n"
     ]
    },
    {
     "output_type": "stream",
     "name": "stderr",
     "text": [
      "WARNING:tensorflow:Compiled the loaded model, but the compiled metrics have yet to be built. `model.compile_metrics` will be empty until you train or evaluate the model.\n"
     ]
    },
    {
     "output_type": "stream",
     "name": "stdout",
     "text": [
      "Saving Model\n",
      "This is running epoch 3 and Loss 0.154129\n",
      "PSNR: 15.075192218149807\n",
      "SSIM: 0.051123640878611785\n",
      "1/1 [==============================] - 1s 1s/step\n"
     ]
    },
    {
     "output_type": "stream",
     "name": "stderr",
     "text": [
      "WARNING:tensorflow:Compiled the loaded model, but the compiled metrics have yet to be built. `model.compile_metrics` will be empty until you train or evaluate the model.\n"
     ]
    },
    {
     "output_type": "stream",
     "name": "stdout",
     "text": [
      "Saving Model\n",
      "This is running epoch 4 and Loss 0.123231\n",
      "PSNR: 17.08732195416714\n",
      "SSIM: 0.06408270597860896\n",
      "1/1 [==============================] - 1s 1s/step\n",
      "This is running epoch 5 and Loss 0.077106\n",
      "PSNR: 17.08732195416714\n",
      "SSIM: 0.06676861185194392\n",
      "1/1 [==============================] - 1s 1s/step\n"
     ]
    },
    {
     "output_type": "stream",
     "name": "stderr",
     "text": [
      "WARNING:tensorflow:Compiled the loaded model, but the compiled metrics have yet to be built. `model.compile_metrics` will be empty until you train or evaluate the model.\n"
     ]
    },
    {
     "output_type": "stream",
     "name": "stdout",
     "text": [
      "Saving Model\n",
      "This is running epoch 6 and Loss 0.081483\n",
      "PSNR: 17.95315577018366\n",
      "SSIM: 0.06925559854944424\n",
      "1/1 [==============================] - 1s 1s/step\n",
      "This is running epoch 7 and Loss 0.062977\n",
      "PSNR: 17.95315577018366\n",
      "SSIM: 0.06841821639888536\n",
      "1/1 [==============================] - 1s 1s/step\n",
      "This is running epoch 8 and Loss 0.066962\n",
      "PSNR: 17.95315577018366\n",
      "SSIM: 0.06947848032619709\n",
      "1/1 [==============================] - 1s 1s/step\n",
      "This is running epoch 9 and Loss 0.069114\n",
      "PSNR: 17.95315577018366\n",
      "SSIM: 0.06887512900498179\n",
      "1/1 [==============================] - 1s 1s/step\n",
      "This is running epoch 10 and Loss 0.075995\n",
      "PSNR: 17.95315577018366\n",
      "SSIM: 0.06822599053714039\n",
      "1/1 [==============================] - 1s 1s/step\n",
      "This is running epoch 11 and Loss 0.082400\n",
      "PSNR: 17.95315577018366\n",
      "SSIM: 0.06842115912216658\n",
      "1/1 [==============================] - 1s 1s/step\n",
      "This is running epoch 12 and Loss 0.075258\n",
      "PSNR: 17.95315577018366\n",
      "SSIM: 0.0689109575126677\n",
      "1/1 [==============================] - 1s 1s/step\n"
     ]
    },
    {
     "output_type": "stream",
     "name": "stderr",
     "text": [
      "WARNING:tensorflow:Compiled the loaded model, but the compiled metrics have yet to be built. `model.compile_metrics` will be empty until you train or evaluate the model.\n"
     ]
    },
    {
     "output_type": "stream",
     "name": "stdout",
     "text": [
      "Saving Model\n",
      "This is running epoch 13 and Loss 0.074586\n",
      "PSNR: 18.032207132401517\n",
      "SSIM: 0.06970658486844411\n",
      "1/1 [==============================] - 1s 1s/step\n"
     ]
    },
    {
     "output_type": "stream",
     "name": "stderr",
     "text": [
      "WARNING:tensorflow:Compiled the loaded model, but the compiled metrics have yet to be built. `model.compile_metrics` will be empty until you train or evaluate the model.\n"
     ]
    },
    {
     "output_type": "stream",
     "name": "stdout",
     "text": [
      "Saving Model\n",
      "This is running epoch 14 and Loss 0.062928\n",
      "PSNR: 18.68032282739517\n",
      "SSIM: 0.06978018254358871\n",
      "1/1 [==============================] - 1s 1s/step\n"
     ]
    },
    {
     "output_type": "stream",
     "name": "stderr",
     "text": [
      "WARNING:tensorflow:Compiled the loaded model, but the compiled metrics have yet to be built. `model.compile_metrics` will be empty until you train or evaluate the model.\n"
     ]
    },
    {
     "output_type": "stream",
     "name": "stdout",
     "text": [
      "Saving Model\n",
      "This is running epoch 15 and Loss 0.054217\n",
      "PSNR: 19.441781335091978\n",
      "SSIM: 0.039367224381729335\n",
      "1/1 [==============================] - 1s 1s/step\n",
      "This is running epoch 16 and Loss 0.045482\n",
      "PSNR: 19.441781335091978\n",
      "SSIM: 0.006391899078492551\n",
      "1/1 [==============================] - 1s 1s/step\n"
     ]
    },
    {
     "output_type": "stream",
     "name": "stderr",
     "text": [
      "WARNING:tensorflow:Compiled the loaded model, but the compiled metrics have yet to be built. `model.compile_metrics` will be empty until you train or evaluate the model.\n"
     ]
    },
    {
     "output_type": "stream",
     "name": "stdout",
     "text": [
      "Saving Model\n",
      "This is running epoch 17 and Loss 0.047032\n",
      "PSNR: 19.845149640058093\n",
      "SSIM: 0.07104461186103948\n",
      "1/1 [==============================] - 1s 1s/step\n"
     ]
    },
    {
     "output_type": "stream",
     "name": "stderr",
     "text": [
      "WARNING:tensorflow:Compiled the loaded model, but the compiled metrics have yet to be built. `model.compile_metrics` will be empty until you train or evaluate the model.\n"
     ]
    },
    {
     "output_type": "stream",
     "name": "stdout",
     "text": [
      "Saving Model\n",
      "This is running epoch 18 and Loss 0.041474\n",
      "PSNR: 19.847591509307318\n",
      "SSIM: 0.07216435998839393\n",
      "1/1 [==============================] - 1s 1s/step\n"
     ]
    },
    {
     "output_type": "stream",
     "name": "stderr",
     "text": [
      "WARNING:tensorflow:Compiled the loaded model, but the compiled metrics have yet to be built. `model.compile_metrics` will be empty until you train or evaluate the model.\n"
     ]
    },
    {
     "output_type": "stream",
     "name": "stdout",
     "text": [
      "Saving Model\n",
      "This is running epoch 19 and Loss 0.041451\n",
      "PSNR: 19.85450659291101\n",
      "SSIM: 0.07216785649703915\n",
      "1/1 [==============================] - 1s 1s/step\n"
     ]
    },
    {
     "output_type": "stream",
     "name": "stderr",
     "text": [
      "WARNING:tensorflow:Compiled the loaded model, but the compiled metrics have yet to be built. `model.compile_metrics` will be empty until you train or evaluate the model.\n"
     ]
    },
    {
     "output_type": "stream",
     "name": "stdout",
     "text": [
      "Saving Model\n",
      "This is running epoch 20 and Loss 0.041386\n",
      "PSNR: 19.872211903852296\n",
      "SSIM: 0.07216942752371004\n",
      "1/1 [==============================] - 1s 1s/step\n"
     ]
    },
    {
     "output_type": "stream",
     "name": "stderr",
     "text": [
      "WARNING:tensorflow:Compiled the loaded model, but the compiled metrics have yet to be built. `model.compile_metrics` will be empty until you train or evaluate the model.\n"
     ]
    },
    {
     "output_type": "stream",
     "name": "stdout",
     "text": [
      "Saving Model\n",
      "This is running epoch 21 and Loss 0.041218\n",
      "PSNR: 20.632369602791307\n",
      "SSIM: 0.07264616697750355\n",
      "1/1 [==============================] - 1s 1s/step\n"
     ]
    },
    {
     "output_type": "stream",
     "name": "stderr",
     "text": [
      "WARNING:tensorflow:Compiled the loaded model, but the compiled metrics have yet to be built. `model.compile_metrics` will be empty until you train or evaluate the model.\n"
     ]
    },
    {
     "output_type": "stream",
     "name": "stdout",
     "text": [
      "Saving Model\n",
      "This is running epoch 22 and Loss 0.034611\n",
      "PSNR: 20.645815427278645\n",
      "SSIM: 0.0726509698359448\n",
      "1/1 [==============================] - 1s 1s/step\n"
     ]
    },
    {
     "output_type": "stream",
     "name": "stderr",
     "text": [
      "WARNING:tensorflow:Compiled the loaded model, but the compiled metrics have yet to be built. `model.compile_metrics` will be empty until you train or evaluate the model.\n"
     ]
    },
    {
     "output_type": "stream",
     "name": "stdout",
     "text": [
      "Saving Model\n",
      "This is running epoch 23 and Loss 0.034506\n",
      "PSNR: 20.6502259585763\n",
      "SSIM: 0.07265137293902581\n",
      "1/1 [==============================] - 1s 1s/step\n"
     ]
    },
    {
     "output_type": "stream",
     "name": "stderr",
     "text": [
      "WARNING:tensorflow:Compiled the loaded model, but the compiled metrics have yet to be built. `model.compile_metrics` will be empty until you train or evaluate the model.\n"
     ]
    },
    {
     "output_type": "stream",
     "name": "stdout",
     "text": [
      "Saving Model\n",
      "This is running epoch 24 and Loss 0.034470\n",
      "PSNR: 20.652939865636423\n",
      "SSIM: 0.07265137022106864\n",
      "1/1 [==============================] - 1s 1s/step\n"
     ]
    },
    {
     "output_type": "stream",
     "name": "stderr",
     "text": [
      "WARNING:tensorflow:Compiled the loaded model, but the compiled metrics have yet to be built. `model.compile_metrics` will be empty until you train or evaluate the model.\n"
     ]
    },
    {
     "output_type": "stream",
     "name": "stdout",
     "text": [
      "Saving Model\n",
      "This is running epoch 25 and Loss 0.034449\n",
      "PSNR: 20.661366590632795\n",
      "SSIM: 0.07265143905987655\n",
      "1/1 [==============================] - 1s 1s/step\n"
     ]
    },
    {
     "output_type": "stream",
     "name": "stderr",
     "text": [
      "WARNING:tensorflow:Compiled the loaded model, but the compiled metrics have yet to be built. `model.compile_metrics` will be empty until you train or evaluate the model.\n"
     ]
    },
    {
     "output_type": "stream",
     "name": "stdout",
     "text": [
      "Saving Model\n",
      "This is running epoch 26 and Loss 0.034383\n",
      "PSNR: 20.692267239096694\n",
      "SSIM: 0.07265163584319494\n",
      "1/1 [==============================] - 1s 1s/step\n"
     ]
    },
    {
     "output_type": "stream",
     "name": "stderr",
     "text": [
      "WARNING:tensorflow:Compiled the loaded model, but the compiled metrics have yet to be built. `model.compile_metrics` will be empty until you train or evaluate the model.\n"
     ]
    },
    {
     "output_type": "stream",
     "name": "stdout",
     "text": [
      "Saving Model\n",
      "This is running epoch 27 and Loss 0.034141\n",
      "PSNR: 21.577194422218177\n",
      "SSIM: 0.0731784386141406\n",
      "1/1 [==============================] - 1s 1s/step\n"
     ]
    },
    {
     "output_type": "stream",
     "name": "stderr",
     "text": [
      "WARNING:tensorflow:Compiled the loaded model, but the compiled metrics have yet to be built. `model.compile_metrics` will be empty until you train or evaluate the model.\n"
     ]
    },
    {
     "output_type": "stream",
     "name": "stdout",
     "text": [
      "Saving Model\n",
      "This is running epoch 28 and Loss 0.027849\n",
      "PSNR: 21.591675366074533\n",
      "SSIM: 0.07318237760969935\n",
      "1/1 [==============================] - 1s 1s/step\n"
     ]
    },
    {
     "output_type": "stream",
     "name": "stderr",
     "text": [
      "WARNING:tensorflow:Compiled the loaded model, but the compiled metrics have yet to be built. `model.compile_metrics` will be empty until you train or evaluate the model.\n"
     ]
    },
    {
     "output_type": "stream",
     "name": "stdout",
     "text": [
      "Saving Model\n",
      "This is running epoch 29 and Loss 0.027756\n",
      "PSNR: 21.600028848744625\n",
      "SSIM: 0.07318318490264887\n",
      "1/1 [==============================] - 1s 1s/step\n"
     ]
    },
    {
     "output_type": "stream",
     "name": "stderr",
     "text": [
      "WARNING:tensorflow:Compiled the loaded model, but the compiled metrics have yet to be built. `model.compile_metrics` will be empty until you train or evaluate the model.\n"
     ]
    },
    {
     "output_type": "stream",
     "name": "stdout",
     "text": [
      "Saving Model\n",
      "This is running epoch 30 and Loss 0.027701\n",
      "PSNR: 21.60623513098045\n",
      "SSIM: 0.0731837027461639\n",
      "1/1 [==============================] - 1s 1s/step\n"
     ]
    },
    {
     "output_type": "stream",
     "name": "stderr",
     "text": [
      "WARNING:tensorflow:Compiled the loaded model, but the compiled metrics have yet to be built. `model.compile_metrics` will be empty until you train or evaluate the model.\n"
     ]
    },
    {
     "output_type": "stream",
     "name": "stdout",
     "text": [
      "Saving Model\n",
      "This is running epoch 31 and Loss 0.027660\n",
      "PSNR: 21.61353936104876\n",
      "SSIM: 0.07318424363118299\n",
      "1/1 [==============================] - 1s 1s/step\n"
     ]
    },
    {
     "output_type": "stream",
     "name": "stderr",
     "text": [
      "WARNING:tensorflow:Compiled the loaded model, but the compiled metrics have yet to be built. `model.compile_metrics` will be empty until you train or evaluate the model.\n"
     ]
    },
    {
     "output_type": "stream",
     "name": "stdout",
     "text": [
      "Saving Model\n",
      "This is running epoch 32 and Loss 0.027614\n",
      "PSNR: 21.613674410490248\n",
      "SSIM: 0.07318424412410934\n",
      "1/1 [==============================] - 1s 1s/step\n"
     ]
    },
    {
     "output_type": "stream",
     "name": "stderr",
     "text": [
      "WARNING:tensorflow:Compiled the loaded model, but the compiled metrics have yet to be built. `model.compile_metrics` will be empty until you train or evaluate the model.\n"
     ]
    },
    {
     "output_type": "stream",
     "name": "stdout",
     "text": [
      "Saving Model\n",
      "This is running epoch 33 and Loss 0.027613\n",
      "PSNR: 21.61371048850006\n",
      "SSIM: 0.07318424349586826\n",
      "1/1 [==============================] - 1s 1s/step\n"
     ]
    },
    {
     "output_type": "stream",
     "name": "stderr",
     "text": [
      "WARNING:tensorflow:Compiled the loaded model, but the compiled metrics have yet to be built. `model.compile_metrics` will be empty until you train or evaluate the model.\n"
     ]
    },
    {
     "output_type": "stream",
     "name": "stdout",
     "text": [
      "Saving Model\n",
      "This is running epoch 34 and Loss 0.027613\n",
      "PSNR: 21.613771386022616\n",
      "SSIM: 0.0731842392373267\n",
      "1/1 [==============================] - 1s 1s/step\n"
     ]
    },
    {
     "output_type": "stream",
     "name": "stderr",
     "text": [
      "WARNING:tensorflow:Compiled the loaded model, but the compiled metrics have yet to be built. `model.compile_metrics` will be empty until you train or evaluate the model.\n"
     ]
    },
    {
     "output_type": "stream",
     "name": "stdout",
     "text": [
      "Saving Model\n",
      "This is running epoch 35 and Loss 0.027613\n",
      "PSNR: 21.6138139027813\n",
      "SSIM: 0.07318422742195019\n",
      "1/1 [==============================] - 1s 1s/step\n"
     ]
    },
    {
     "output_type": "stream",
     "name": "stderr",
     "text": [
      "WARNING:tensorflow:Compiled the loaded model, but the compiled metrics have yet to be built. `model.compile_metrics` will be empty until you train or evaluate the model.\n"
     ]
    },
    {
     "output_type": "stream",
     "name": "stdout",
     "text": [
      "Saving Model\n",
      "This is running epoch 36 and Loss 0.027612\n",
      "PSNR: 21.61393603199003\n",
      "SSIM: 0.07318420999384143\n",
      "1/1 [==============================] - 1s 1s/step\n"
     ]
    },
    {
     "output_type": "stream",
     "name": "stderr",
     "text": [
      "WARNING:tensorflow:Compiled the loaded model, but the compiled metrics have yet to be built. `model.compile_metrics` will be empty until you train or evaluate the model.\n"
     ]
    },
    {
     "output_type": "stream",
     "name": "stdout",
     "text": [
      "Saving Model\n",
      "This is running epoch 37 and Loss 0.027612\n",
      "PSNR: 21.614402537863313\n",
      "SSIM: 0.07318420965944615\n",
      "1/1 [==============================] - 1s 1s/step\n"
     ]
    },
    {
     "output_type": "stream",
     "name": "stderr",
     "text": [
      "WARNING:tensorflow:Compiled the loaded model, but the compiled metrics have yet to be built. `model.compile_metrics` will be empty until you train or evaluate the model.\n"
     ]
    },
    {
     "output_type": "stream",
     "name": "stdout",
     "text": [
      "Saving Model\n",
      "This is running epoch 38 and Loss 0.027609\n",
      "PSNR: 21.62051919260369\n",
      "SSIM: 0.07318423345165719\n",
      "1/1 [==============================] - 1s 1s/step\n"
     ]
    },
    {
     "output_type": "stream",
     "name": "stderr",
     "text": [
      "WARNING:tensorflow:Compiled the loaded model, but the compiled metrics have yet to be built. `model.compile_metrics` will be empty until you train or evaluate the model.\n"
     ]
    },
    {
     "output_type": "stream",
     "name": "stdout",
     "text": [
      "Saving Model\n",
      "This is running epoch 39 and Loss 0.027570\n",
      "PSNR: 21.63539958163376\n",
      "SSIM: 0.07318425657783667\n",
      "1/1 [==============================] - 1s 1s/step\n"
     ]
    },
    {
     "output_type": "stream",
     "name": "stderr",
     "text": [
      "WARNING:tensorflow:Compiled the loaded model, but the compiled metrics have yet to be built. `model.compile_metrics` will be empty until you train or evaluate the model.\n"
     ]
    },
    {
     "output_type": "stream",
     "name": "stdout",
     "text": [
      "Saving Model\n",
      "This is running epoch 40 and Loss 0.027476\n",
      "PSNR: 21.659837516964558\n",
      "SSIM: 0.07318439100480582\n",
      "1/1 [==============================] - 1s 1s/step\n"
     ]
    },
    {
     "output_type": "stream",
     "name": "stderr",
     "text": [
      "WARNING:tensorflow:Compiled the loaded model, but the compiled metrics have yet to be built. `model.compile_metrics` will be empty until you train or evaluate the model.\n"
     ]
    },
    {
     "output_type": "stream",
     "name": "stdout",
     "text": [
      "Saving Model\n",
      "This is running epoch 41 and Loss 0.027320\n",
      "PSNR: 22.843208312655044\n",
      "SSIM: 0.07372447786991686\n",
      "1/1 [==============================] - 1s 1s/step\n"
     ]
    },
    {
     "output_type": "stream",
     "name": "stderr",
     "text": [
      "WARNING:tensorflow:Compiled the loaded model, but the compiled metrics have yet to be built. `model.compile_metrics` will be empty until you train or evaluate the model.\n"
     ]
    },
    {
     "output_type": "stream",
     "name": "stdout",
     "text": [
      "Saving Model\n",
      "This is running epoch 42 and Loss 0.020801\n",
      "PSNR: 22.862860475391436\n",
      "SSIM: 0.07372567091541973\n",
      "1/1 [==============================] - 1s 1s/step\n"
     ]
    },
    {
     "output_type": "stream",
     "name": "stderr",
     "text": [
      "WARNING:tensorflow:Compiled the loaded model, but the compiled metrics have yet to be built. `model.compile_metrics` will be empty until you train or evaluate the model.\n"
     ]
    },
    {
     "output_type": "stream",
     "name": "stdout",
     "text": [
      "Saving Model\n",
      "This is running epoch 43 and Loss 0.020708\n",
      "PSNR: 22.862983510190617\n",
      "SSIM: 0.0737256710181045\n",
      "1/1 [==============================] - 1s 1s/step\n"
     ]
    },
    {
     "output_type": "stream",
     "name": "stderr",
     "text": [
      "WARNING:tensorflow:Compiled the loaded model, but the compiled metrics have yet to be built. `model.compile_metrics` will be empty until you train or evaluate the model.\n"
     ]
    },
    {
     "output_type": "stream",
     "name": "stdout",
     "text": [
      "Saving Model\n",
      "This is running epoch 44 and Loss 0.020707\n",
      "PSNR: 22.863032318316083\n",
      "SSIM: 0.07372567094995149\n",
      "1/1 [==============================] - 1s 1s/step\n"
     ]
    },
    {
     "output_type": "stream",
     "name": "stderr",
     "text": [
      "WARNING:tensorflow:Compiled the loaded model, but the compiled metrics have yet to be built. `model.compile_metrics` will be empty until you train or evaluate the model.\n"
     ]
    },
    {
     "output_type": "stream",
     "name": "stdout",
     "text": [
      "Saving Model\n",
      "This is running epoch 45 and Loss 0.020707\n",
      "PSNR: 22.863100115820604\n",
      "SSIM: 0.07372567082030139\n",
      "1/1 [==============================] - 1s 1s/step\n"
     ]
    },
    {
     "output_type": "stream",
     "name": "stderr",
     "text": [
      "WARNING:tensorflow:Compiled the loaded model, but the compiled metrics have yet to be built. `model.compile_metrics` will be empty until you train or evaluate the model.\n"
     ]
    },
    {
     "output_type": "stream",
     "name": "stdout",
     "text": [
      "Saving Model\n",
      "This is running epoch 46 and Loss 0.020707\n",
      "PSNR: 22.86314533559443\n",
      "SSIM: 0.07372567063732742\n",
      "1/1 [==============================] - 1s 1s/step\n"
     ]
    },
    {
     "output_type": "stream",
     "name": "stderr",
     "text": [
      "WARNING:tensorflow:Compiled the loaded model, but the compiled metrics have yet to be built. `model.compile_metrics` will be empty until you train or evaluate the model.\n"
     ]
    },
    {
     "output_type": "stream",
     "name": "stdout",
     "text": [
      "Saving Model\n",
      "This is running epoch 47 and Loss 0.020706\n",
      "PSNR: 22.863188799578555\n",
      "SSIM: 0.0737256705619393\n",
      "1/1 [==============================] - 1s 1s/step\n"
     ]
    },
    {
     "output_type": "stream",
     "name": "stderr",
     "text": [
      "WARNING:tensorflow:Compiled the loaded model, but the compiled metrics have yet to be built. `model.compile_metrics` will be empty until you train or evaluate the model.\n"
     ]
    },
    {
     "output_type": "stream",
     "name": "stdout",
     "text": [
      "Saving Model\n",
      "This is running epoch 48 and Loss 0.020706\n",
      "PSNR: 22.86340858591085\n",
      "SSIM: 0.07372567057500368\n",
      "1/1 [==============================] - 2s 2s/step\n"
     ]
    },
    {
     "output_type": "stream",
     "name": "stderr",
     "text": [
      "WARNING:tensorflow:Compiled the loaded model, but the compiled metrics have yet to be built. `model.compile_metrics` will be empty until you train or evaluate the model.\n"
     ]
    },
    {
     "output_type": "stream",
     "name": "stdout",
     "text": [
      "Saving Model\n",
      "This is running epoch 49 and Loss 0.020705\n",
      "PSNR: 22.86692299117641\n",
      "SSIM: 0.07372567150101043\n"
     ]
    },
    {
     "output_type": "stream",
     "name": "stderr",
     "text": [
      "WARNING:tensorflow:No training configuration found in the save file, so the model was *not* compiled. Compile it manually.\n"
     ]
    },
    {
     "output_type": "stream",
     "name": "stdout",
     "text": [
      "1/1 [==============================] - 2s 2s/step\n"
     ]
    },
    {
     "output_type": "display_data",
     "data": {
      "text/plain": [
       "<Figure size 432x864 with 3 Axes>"
      ],
      "image/png": "[encoded data removed]"
     },
     "metadata": {
      "needs_background": "light"
     }
    }
   ]
  },
  {
   "cell_type": "code",
   "source": [
    "# show the output image\n",
    "out_best = np.matmul(out_best, vh)\n",
    "fig1, (ax, ax1, ax2, ax3) = plt.subplots(4, sharex=False, figsize=(6, 12))\n",
    "ax.imshow(np.clip(out_best[0][:, :, 133], 0, 1))\n",
    "ax.set_title(\"Denoised  image, max PSNR=\" + str(np.round(np.max(destriped_psnr), 2)))\n",
    "ax.axis(\"off\")\n",
    "# plot train loss and divergence\n",
    "ax1.plot(range(len(train_loss_results)), train_loss_results, label=\"train loss\")\n",
    "ax1.set_title(\"Training loss using SURE\")\n",
    "ax1.legend()\n",
    "ax1.grid()\n",
    "\n",
    "# plot PSNR\n",
    "ax2.plot(destriped_psnr, label=\"destriped PSNR\")\n",
    "ax2.set_xlabel(\"Iterations\")\n",
    "ax2.set_title(\"PSNR using SURE\")\n",
    "ax2.legend()\n",
    "ax2.grid()\n",
    "\n",
    "# plot PSNR\n",
    "ax3.plot(destriped_ssim, label=\"destriped SSIM\")\n",
    "ax3.set_xlabel(\"Iterations\")\n",
    "ax3.set_title(\"PSNR using SURE\")\n",
    "ax3.legend()\n",
    "ax3.grid()\n",
    "\n",
    "# show the images (clean, noisy, output from the trained model)\n",
    "band = 42\n",
    "plt.subplot(131)\n",
    "plt.imshow(np.clip(ip_radiance_data_np[:, :, band], 0, 1))\n",
    "plt.subplot(132)\n",
    "plt.imshow(np.clip(ip_striped_data_np[:, :, band], 0, 1))\n",
    "plt.subplot(133)\n",
    "plt.imshow(np.clip(out_best[0][:, :, band], 0, 1))\n",
    "plt.show()\n",
    "print(\"Band: \" + str(band))\n",
    "print(\"Original PSNR: \" + str(psnr(ip_radiance_data[0], ip_striped_data[0])))\n",
    "print(\"Destriped PSNR: \" + str(psnr(ip_radiance_data[0], out_best[0])))"
   ],
   "metadata": {
    "id": "AvQmMjRJQHUC",
    "colab": {
     "base_uri": "https://localhost:8080/",
     "height": 202
    },
    "executionInfo": {
     "status": "ok",
     "timestamp": 1665808214192,
     "user_tz": 240,
     "elapsed": 2186,
     "user": {
      "displayName": "Punyaphat Sukcharoenchaikul",
      "userId": "05777821768464563273"
     }
    },
    "outputId": "221496ba-bf2f-4fa1-dc69-299c07e6545b"
   },
   "execution_count": 55,
   "outputs": [
    {
     "output_type": "display_data",
     "data": {
      "text/plain": [
       "<Figure size 432x864 with 3 Axes>"
      ],
      "image/png": "[encoded data removed]"
     },
     "metadata": {
      "needs_background": "light"
     }
    },
    {
     "output_type": "stream",
     "name": "stdout",
     "text": [
      "Band: 42\n",
      "Original PSNR: 24.624303420128864\n",
      "Destriped PSNR: 22.86944035883232\n"
     ]
    }
   ]
  },
  {
   "cell_type": "code",
   "source": [],
   "metadata": {
    "id": "lZK__ZKy6B8a"
   },
   "execution_count": null,
   "outputs": []
  }
 ]
}